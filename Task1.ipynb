{
 "cells": [
  {
   "cell_type": "code",
   "execution_count": 1,
   "metadata": {},
   "outputs": [
    {
     "name": "stdout",
     "output_type": "stream",
     "text": [
      "Name: langchainNote: you may need to restart the kernel to use updated packages.\n",
      "\n",
      "Version: 0.1.14\n",
      "Summary: Building applications with LLMs through composability\n",
      "Home-page: https://github.com/langchain-ai/langchain\n",
      "Author: \n",
      "Author-email: \n",
      "License: MIT\n",
      "Location: c:\\Users\\Hani\\AppData\\Local\\Programs\\Python\\Python311\\Lib\\site-packages\n",
      "Requires: aiohttp, dataclasses-json, jsonpatch, langchain-community, langchain-core, langchain-text-splitters, langsmith, numpy, pydantic, PyYAML, requests, SQLAlchemy, tenacity\n",
      "Required-by: \n"
     ]
    },
    {
     "name": "stderr",
     "output_type": "stream",
     "text": [
      "WARNING: Package(s) not found: #Version:, 0.1.14\n"
     ]
    }
   ],
   "source": [
    "%pip show langchain #Version: 0.1.14"
   ]
  },
  {
   "cell_type": "markdown",
   "metadata": {},
   "source": [
    "# General Imports and Environment"
   ]
  },
  {
   "cell_type": "code",
   "execution_count": 1,
   "metadata": {},
   "outputs": [],
   "source": [
    "import os"
   ]
  },
  {
   "cell_type": "code",
   "execution_count": 2,
   "metadata": {},
   "outputs": [],
   "source": [
    "from langchain.document_loaders import PyPDFDirectoryLoader # type: ignore\n",
    "from langchain.text_splitter import RecursiveCharacterTextSplitter # type: ignore\n",
    "from langchain.embeddings import OpenAIEmbeddings # type: ignore\n",
    "from langchain.llms import OpenAI # type: ignore\n",
    "from langchain.vectorstores import Pinecone# type: ignore\n",
    "from langchain.chains import RetrievalQA# type: ignore\n",
    "from langchain.prompts import PromptTemplate# type: ignore\n",
    "from langchain.chains.summarize import load_summarize_chain# type: ignore\n",
    "from langchain_community.chat_models import ChatOpenAI# type: ignore"
   ]
  },
  {
   "cell_type": "markdown",
   "metadata": {},
   "source": [
    "# Load and Chunk Document"
   ]
  },
  {
   "cell_type": "code",
   "execution_count": 3,
   "metadata": {},
   "outputs": [],
   "source": [
    "loader = PyPDFDirectoryLoader(\"pdf\")"
   ]
  },
  {
   "cell_type": "code",
   "execution_count": 4,
   "metadata": {},
   "outputs": [],
   "source": [
    "data = loader.load()"
   ]
  },
  {
   "cell_type": "code",
   "execution_count": 5,
   "metadata": {},
   "outputs": [
    {
     "data": {
      "text/plain": [
       "[Document(page_content='Download free eBooks of classic literature, books and \\nnovels at Planet eBook. Subscribe to our free eBooks blog \\nand email newsletter.Crime and Punishment\\nBy Fyodor Dostoevsky\\n', metadata={'source': 'pdf\\\\crime-and-punishment.pdf', 'page': 0}),\n",
       " Document(page_content='Crime and Punishment \\x18Translator’s Preface\\nA few words about Dostoevsky himself may help the Eng -\\nlish reader to understand his work.\\nDostoevsky was the son of a doctor. His parents were \\nvery hard- working and deeply religious people, but so poor \\nthat they lived with their five children in only two rooms. \\nThe father and mother spent their evenings in reading aloud \\nto their children, generally from books of a serious charac -\\nter.\\nThough always sickly and delicate Dostoevsky came out \\nthird in the final examination of the Petersburg school of \\nEngineering. There he had already begun his first work, \\n‘Poor Folk.’\\nThis story was published by the poet Nekrassov in his \\nreview and was received with acclamations. The shy, un -\\nknown youth found himself instantly something of a \\ncelebrity. A brilliant and successful career seemed to open \\nbefore him, but those hopes were soon dashed. In 1849 he \\nwas arrested.\\nThough neither by temperament nor conviction a revolu -\\ntionist, Dostoevsky was one of a little group of young men \\nwho met together to read Fourier and Proudhon. He was ac -\\ncused of ‘taking part in conversations against the censorship, \\nof reading a letter from Byelinsky to Gogol, and of knowing \\nof the intention to set up a printing press.’ Under Nicholas I. ', metadata={'source': 'pdf\\\\crime-and-punishment.pdf', 'page': 1}),\n",
       " Document(page_content='\\x18 Free eBooks at Planet eBook.com(that ‘stern and just man,’ as Maurice Baring calls him) this \\nwas enough, and he was condemned to death. After eight \\nmonths’ imprisonment he was with twenty-one others tak -\\nen out to the Semyonovsky Square to be shot. Writing to his \\nbrother Mihail, Dostoevsky says: ‘They snapped words over \\nour heads, and they made us put on the white shirts worn by \\npersons condemned to death. Thereupon we were bound in \\nthrees to stakes, to suffer execution. Being the third in the \\nrow, I concluded I had only a few minutes of life before me. \\nI thought of you and your dear ones and I contrived to kiss \\nPlestcheiev and Dourov, who were next to me, and to bid \\nthem farewell. Suddenly the troops beat a tattoo, we were \\nunbound, brought back upon the scaffold, and informed \\nthat his Majesty had spared us our lives.’ The sentence was \\ncommuted to hard labour.\\nOne of the prisoners, Grigoryev, went mad as soon as he \\nwas untied, and never regained his sanity.\\nThe intense suffering of this experience left a lasting \\nstamp on Dostoevsky’s mind. Though his religious temper \\nled him in the end to accept every suffering with resignation \\nand to regard it as a blessing in his own case, he constantly \\nrecurs to the subject in his writings. He describes the awful \\nagony of the condemned man and insists on the cruelty of \\ninflicting such torture. Then followed four years of penal \\nservitude, spent in the company of common criminals in \\nSiberia, where he began the ‘Dead House,’ and some years \\nof service in a disciplinary battalion.\\nHe had shown signs of some obscure nervous disease be -\\nfore his arrest and this now developed into violent attacks of ', metadata={'source': 'pdf\\\\crime-and-punishment.pdf', 'page': 2}),\n",
       " Document(page_content='Crime and Punishment \\x18epilepsy, from which he suffered for the rest of his life. The \\nfits occurred three or four times a year and were more fre -\\nquent in periods of great strain. In 1859 he was allowed to \\nreturn to Russia. He started a journal— ‘Vremya,’ which was \\nforbidden by the Censorship through a misunderstanding. \\nIn 1864 he lost his first wife and his brother Mihail. He was \\nin terrible poverty, yet he took upon himself the payment \\nof his brother’s debts. He started another journal—‘The Ep -\\noch,’ which within a few months was also prohibited. He \\nwas weighed down by debt, his brother’s family was depen -\\ndent on him, he was forced to write at heart-breaking speed, \\nand is said never to have corrected his work. The later years \\nof his life were much softened by the tenderness and devo -\\ntion of his second wife.\\nIn June 1880 he made his famous speech at the unveil -\\ning of the monument to Pushkin in Moscow and he was \\nreceived with extraordinary demonstrations of love and \\nhonour.\\nA few months later Dostoevsky died. He was followed to \\nthe grave by a vast multitude of mourners, who ‘gave the \\nhapless man the funeral of a king.’ He is still probably the \\nmost widely read writer in Russia.\\nIn the words of a Russian critic, who seeks to explain the \\nfeeling inspired by Dostoevsky: ‘He was one of ourselves, a \\nman of our blood and our bone, but one who has suffered \\nand has seen so much more deeply than we have his insight \\nimpresses us as wisdom … that wisdom of the heart which \\nwe seek that we may learn from it how to live. All his other \\ngifts came to him from nature, this he won for himself and ', metadata={'source': 'pdf\\\\crime-and-punishment.pdf', 'page': 3}),\n",
       " Document(page_content='\\x18 Free eBooks at Planet eBook.comthrough it he became great.’', metadata={'source': 'pdf\\\\crime-and-punishment.pdf', 'page': 4})]"
      ]
     },
     "execution_count": 5,
     "metadata": {},
     "output_type": "execute_result"
    }
   ],
   "source": [
    "data[:5]"
   ]
  },
  {
   "cell_type": "code",
   "execution_count": 6,
   "metadata": {},
   "outputs": [
    {
     "name": "stdout",
     "output_type": "stream",
     "text": [
      "You have 767 pages\n"
     ]
    }
   ],
   "source": [
    "print(f\"You have {len(data)} pages\") "
   ]
  },
  {
   "cell_type": "markdown",
   "metadata": {},
   "source": [
    "# Preprocessing"
   ]
  },
  {
   "cell_type": "code",
   "execution_count": 234,
   "metadata": {},
   "outputs": [
    {
     "name": "stdout",
     "output_type": "stream",
     "text": [
      "\u0018 Chapter I\n",
      "On an exceptionally hot evening early in July a young \n",
      "man came out of the garret in which he lodged in S. \n",
      "Place and walked slowly, as though in hesitation, towards \n",
      "K. bridge.\n",
      "He had successfully avoided meeting his landlady on the \n",
      "staircase. His garret was under the roof of a high, five-sto -\n",
      "ried house and was more like a cupboard than a room. The \n",
      "landlady who provided him with garret, dinners, and at -\n",
      "tendance, lived on the floor below, and every time he went \n",
      "out he was obliged to pass her kitchen, the door of which \n",
      "invariably stood open. And each time he passed, the young \n",
      "man had a sick, frightened feeling, which made him scowl \n",
      "and feel ashamed. He was hopelessly in debt to his landlady, \n",
      "and was afraid of meeting her.\n",
      "This was not because he was cowardly and abject, quite \n",
      "the contrary; but for some time past he had been in an over -\n",
      "strained irritable condition, verging on hypochondria. He \n",
      "had become so completely absorbed in himself, and iso -\n",
      "lated from his fellows that he dreaded meeting, not only \n",
      "his landlady, but anyone at all. He was crushed by poverty, \n",
      "but the anxieties of his position had of late ceased to weigh \n",
      "upon him. He had given up attending to matters of practi -\n",
      "cal importance; he had lost all desire to do so. Nothing that \n",
      "any landlady could do had a real terror for him. But to be \n"
     ]
    }
   ],
   "source": [
    "from pprint import pprint\n",
    "print(data[6].page_content)"
   ]
  },
  {
   "cell_type": "markdown",
   "metadata": {},
   "source": [
    "`Remove opening part`"
   ]
  },
  {
   "cell_type": "code",
   "execution_count": 235,
   "metadata": {},
   "outputs": [],
   "source": [
    "data_remove_authorsnote = data[5:]"
   ]
  },
  {
   "cell_type": "code",
   "execution_count": 236,
   "metadata": {},
   "outputs": [
    {
     "data": {
      "text/plain": [
       "'\\x18 Chapter I\\nOn an exceptionally hot evening early in July a young \\nman came out of the garret in which he lodged in S. \\nPlace and walked slowly, as though in hesitation, towards \\nK. bridge.\\nHe had successfully avoided meeting his landlady on the \\nstaircase. His garret was under the roof of a high, five-sto -\\nried house and was more like a cupboard than a room. The \\nlandlady who provided him with garret, dinners, and at -\\ntendance, lived on the floor below, and every time he went \\nout he was obliged to pass her kitchen, the door of which \\ninvariably stood open. And each time he passed, the young \\nman had a sick, frightened feeling, which made him scowl \\nand feel ashamed. He was hopelessly in debt to his landlady, \\nand was afraid of meeting her.\\nThis was not because he was cowardly and abject, quite \\nthe contrary; but for some time past he had been in an over -\\nstrained irritable condition, verging on hypochondria. He \\nhad become so completely absorbed in himself, and iso -\\nlated from his fellows that he dreaded meeting, not only \\nhis landlady, but anyone at all. He was crushed by poverty, \\nbut the anxieties of his position had of late ceased to weigh \\nupon him. He had given up attending to matters of practi -\\ncal importance; he had lost all desire to do so. Nothing that \\nany landlady could do had a real terror for him. But to be '"
      ]
     },
     "execution_count": 236,
     "metadata": {},
     "output_type": "execute_result"
    }
   ],
   "source": [
    "data_remove_authorsnote[1].page_content"
   ]
  },
  {
   "cell_type": "code",
   "execution_count": 237,
   "metadata": {},
   "outputs": [],
   "source": [
    "for string in data_remove_authorsnote:\n",
    "    string.page_content = string.page_content.replace(\"Free eBooks at Planet eBook.com\", \"\")\n"
   ]
  },
  {
   "cell_type": "markdown",
   "metadata": {},
   "source": [
    "**Crime and Punishment /x18**"
   ]
  },
  {
   "cell_type": "code",
   "execution_count": 238,
   "metadata": {},
   "outputs": [
    {
     "name": "stdout",
     "output_type": "stream",
     "text": [
      "stopped on the stairs, to be forced to listen to her trivial, ir -\n",
      "relevant gossip, to pestering demands for payment, threats \n",
      "and complaints, and to rack his brains for excuses, to pre -\n",
      "varicate, to lie—no, rather than that, he would creep down \n",
      "the stairs like a cat and slip out unseen.\n",
      "This evening, however, on coming out into the street, he \n",
      "became acutely aware of his fears.\n",
      "‘I want to attempt a thing like that  and am frightened \n",
      "by these trifles,’ he thought, with an odd smile. ‘Hm … yes, \n",
      "all is in a man’s hands and he lets it all slip from cowardice, \n",
      "that’s an axiom. It would be interesting to know what it is \n",
      "men are most afraid of. Taking a new step, uttering a new \n",
      "word is what they fear most…. But I am talking too much. \n",
      "It’s because I chatter that I do nothing. Or perhaps it is that \n",
      "I chatter because I do nothing. I’ve learned to chatter this \n",
      "last month, lying for days together in my den thinking … \n",
      "of Jack the Giant-killer. Why am I going there now? Am I \n",
      "capable of that? Is that serious? It is not serious at all. It’s \n",
      "simply a fantasy to amuse myself; a plaything! Yes, maybe \n",
      "it is a plaything.’\n",
      "The heat in the street was terrible: and the airlessness, the \n",
      "bustle and the plaster, scaffolding, bricks, and dust all about \n",
      "him, and that special Petersburg stench, so familiar to all \n",
      "who are unable to get out of town in summer—all worked \n",
      "painfully upon the young man’s already overwrought \n",
      "nerves. The insufferable stench from the pot- houses, which \n",
      "are particularly numerous in that part of the town, and the \n",
      "drunken men whom he met continually, although it was a \n",
      "working day, completed the revolting misery of the picture. \n"
     ]
    }
   ],
   "source": [
    "print(data_remove_authorsnote[2].page_content)"
   ]
  },
  {
   "cell_type": "markdown",
   "metadata": {},
   "source": [
    "**Crime and Punishment (without /x18)**\n",
    "- Integers are a non trivial case, cannot just remove them using regex"
   ]
  },
  {
   "cell_type": "code",
   "execution_count": 239,
   "metadata": {},
   "outputs": [
    {
     "name": "stdout",
     "output_type": "stream",
     "text": [
      " 10heavy dray horse, suddenly shouted at him as he drove past: \n",
      "‘Hey there, German hatter’ bawling at the top of his voice \n",
      "and pointing at him—the young man stopped suddenly \n",
      "and clutched tremulously at his hat. It was a tall round hat \n",
      "from Zimmerman’s, but completely worn out, rusty with \n",
      "age, all torn and bespattered, brimless and bent on one side \n",
      "in a most unseemly fashion. Not shame, however, but quite \n",
      "another feeling akin to terror had overtaken him.\n",
      "‘I knew it,’ he muttered in confusion, ‘I thought so! That’s \n",
      "the worst of all! Why, a stupid thing like this, the most trivial \n",
      "detail might spoil the whole plan. Yes, my hat is too notice -\n",
      "able…. It looks absurd and that makes it noticeable…. With \n",
      "my rags I ought to wear a cap, any sort of old pancake, but \n",
      "not this grotesque thing. Nobody wears such a hat, it would \n",
      "be noticed a mile off, it would be remembered…. What mat -\n",
      "ters is that people would remember it, and that would give \n",
      "them a clue. For this business one should be as little con -\n",
      "spicuous as possible…. Trifles, trifles are what matter! Why, \n",
      "it’s just such trifles that always ruin everything….’\n",
      "He had not far to go; he knew indeed how many steps \n",
      "it was from the gate of his lodging house: exactly seven \n",
      "hundred and thirty. He had counted them once when he \n",
      "had been lost in dreams. At the time he had put no faith \n",
      "in those dreams and was only tantalising himself by their \n",
      "hideous but daring recklessness. Now, a month later, he had \n",
      "begun to look upon them differently, and, in spite of the \n",
      "monologues in which he jeered at his own impotence and \n",
      "indecision, he had involuntarily come to regard this ‘hid -\n",
      "eous’ dream as an exploit to be attempted, although he still \n"
     ]
    }
   ],
   "source": [
    "print(data_remove_authorsnote[4].page_content)"
   ]
  },
  {
   "cell_type": "code",
   "execution_count": 240,
   "metadata": {},
   "outputs": [],
   "source": [
    "for string in data_remove_authorsnote:\n",
    "    string.page_content = string.page_content.replace(\"Crime and Punishment \\x18\", \"\")\n",
    "    if string.page_content.startswith(\"Crime and Punishment\"):\n",
    "        string.page_content = string.page_content[len(\"Crime and Punishment\"):]  # Remove the prefix"
   ]
  },
  {
   "cell_type": "code",
   "execution_count": 241,
   "metadata": {},
   "outputs": [
    {
     "name": "stdout",
     "output_type": "stream",
     "text": [
      "\u0018 Chapter I\n",
      "On an exceptionally hot evening early in July a young \n",
      "man came out of the garret in which he lodged in S. \n",
      "Place and walked slowly, as though in hesitation, towards \n",
      "K. bridge.\n",
      "He had successfully avoided meeting his landlady on the \n",
      "staircase. His garret was under the roof of a high, five-sto -\n",
      "ried house and was more like a cupboard than a room. The \n",
      "landlady who provided him with garret, dinners, and at -\n",
      "tendance, lived on the floor below, and every time he went \n",
      "out he was obliged to pass her kitchen, the door of which \n",
      "invariably stood open. And each time he passed, the young \n",
      "man had a sick, frightened feeling, which made him scowl \n",
      "and feel ashamed. He was hopelessly in debt to his landlady, \n",
      "and was afraid of meeting her.\n",
      "This was not because he was cowardly and abject, quite \n",
      "the contrary; but for some time past he had been in an over -\n",
      "strained irritable condition, verging on hypochondria. He \n",
      "had become so completely absorbed in himself, and iso -\n",
      "lated from his fellows that he dreaded meeting, not only \n",
      "his landlady, but anyone at all. He was crushed by poverty, \n",
      "but the anxieties of his position had of late ceased to weigh \n",
      "upon him. He had given up attending to matters of practi -\n",
      "cal importance; he had lost all desire to do so. Nothing that \n",
      "any landlady could do had a real terror for him. But to be \n"
     ]
    }
   ],
   "source": [
    "print(data_remove_authorsnote[1].page_content)"
   ]
  },
  {
   "cell_type": "markdown",
   "metadata": {},
   "source": [
    "**Larger chunk size for tasks since summarization require a more holistic view of the text.**"
   ]
  },
  {
   "cell_type": "code",
   "execution_count": 242,
   "metadata": {},
   "outputs": [
    {
     "name": "stdout",
     "output_type": "stream",
     "text": [
      "1669 characters per page\n"
     ]
    }
   ],
   "source": [
    "print(len(data_remove_authorsnote[2].page_content), \"characters per page\")"
   ]
  },
  {
   "cell_type": "code",
   "execution_count": 243,
   "metadata": {},
   "outputs": [],
   "source": [
    "# text_splitter = RecursiveCharacterTextSplitter(chunk_size = 700, chunk_overlap=20, \n",
    "#                                                separators=[\". \",\", \",\"\\n\",\"\"] ) \n",
    "#split into equal chunks\n",
    "\n",
    "# default separator list of [\"\\n\\n\", \"\\n\", \" \", \"\"] \n",
    "#can cause words to be split between chunks"
   ]
  },
  {
   "cell_type": "code",
   "execution_count": 244,
   "metadata": {},
   "outputs": [],
   "source": [
    "# text_chunks = text_splitter.split_documents(data_remove_authorsnote[:3])"
   ]
  },
  {
   "cell_type": "code",
   "execution_count": 18,
   "metadata": {},
   "outputs": [],
   "source": [
    "# text_chunks"
   ]
  },
  {
   "cell_type": "markdown",
   "metadata": {},
   "source": [
    "# Experimenting Approaches for summarization"
   ]
  },
  {
   "cell_type": "markdown",
   "metadata": {},
   "source": [
    "**We will use only first two chapters for experimentation**"
   ]
  },
  {
   "cell_type": "code",
   "execution_count": 38,
   "metadata": {},
   "outputs": [
    {
     "data": {
      "text/plain": [
       "'\\x18Chapter III\\nHe waked up late next day after a broken sleep. But his \\nsleep had not refreshed him; he waked up bilious, ir -\\nritable, ill-tempered, and looked with hatred at his room. \\nIt was a tiny cupboard of a room about six paces in length. \\nIt had a poverty-stricken appearance with its dusty yellow \\npaper peeling off the walls, and it was so low-pitched that \\na man of more than average height was ill at ease in it and \\nfelt every moment that he would knock his head against the \\nceiling. The furniture was in keeping with the room: there \\nwere three old chairs, rather rickety; a painted table in the \\ncorner on which lay a few manuscripts and books; the dust \\nthat lay thick upon them showed that they had been long \\nuntouched. A big clumsy sofa occupied almost the whole \\nof one wall and half the floor space of the room; it was once \\ncovered with chintz, but was now in rags and served Ras -\\nkolnikov as a bed. Often he went to sleep on it, as he was, \\nwithout undressing, without sheets, wrapped in his old \\nstudent’s overcoat, with his head on one little pillow, under \\nwhich he heaped up all the linen he had, clean and dirty, by \\nway of a bolster. A little table stood in front of the sofa.\\nIt would have been difficult to sink to a lower ebb of \\ndisorder, but to Raskolnikov in his present state of mind \\nthis was positively agreeable. He had got completely away \\nfrom everyone, like a tortoise in its shell, and even the sight '"
      ]
     },
     "execution_count": 38,
     "metadata": {},
     "output_type": "execute_result"
    }
   ],
   "source": [
    "data_remove_authorsnote[38].page_content"
   ]
  },
  {
   "cell_type": "code",
   "execution_count": 42,
   "metadata": {},
   "outputs": [],
   "source": [
    "OPENAI_API_KEY = os.environ.get(\"OPENAI_API_KEY\")"
   ]
  },
  {
   "cell_type": "code",
   "execution_count": 57,
   "metadata": {},
   "outputs": [],
   "source": [
    "llm = ChatOpenAI(temperature=0, model_name=\"gpt-3.5-turbo-1106\", openai_api_key=OPENAI_API_KEY)"
   ]
  },
  {
   "cell_type": "code",
   "execution_count": 58,
   "metadata": {},
   "outputs": [
    {
     "data": {
      "text/plain": [
       "Document(page_content='\\x18\\x18 there! And they’re making the most of it! Yes, they are mak -\\ning the most of it! They’ve wept over it and grown used to it. \\nMan grows used to everything, the scoundrel!’\\nHe sank into thought.\\n‘And what if I am wrong,’ he cried suddenly after a mo -\\nment’s thought. ‘What if man is not really a scoundrel, man \\nin general, I mean, the whole race of mankind—then all the \\nrest is prejudice, simply artificial terrors and there are no \\nbarriers and it’s all as it should be.’', metadata={'source': 'pdf\\\\crime-and-punishment.pdf', 'page': 42})"
      ]
     },
     "execution_count": 58,
     "metadata": {},
     "output_type": "execute_result"
    }
   ],
   "source": [
    "data_sample= data_remove_authorsnote[:38]\n",
    "data_sample[-1]"
   ]
  },
  {
   "cell_type": "code",
   "execution_count": 192,
   "metadata": {},
   "outputs": [
    {
     "data": {
      "text/plain": [
       "Document(page_content='0had been obliged to give up the university, but it was only \\nfor a time, and he was working with all his might to save \\nenough to return to his studies again. Raskolnikov had not \\nbeen to see him for the last four months, and Razumihin \\ndid not even know his address. About two months before, \\nthey had met in the street, but Raskolnikov had turned \\naway and even crossed to the other side that he might not be \\nobserved. And though Razumihin noticed him, he passed \\nhim by, as he did not want to annoy him.', metadata={'source': 'pdf\\\\crime-and-punishment.pdf', 'page': 79})"
      ]
     },
     "execution_count": 192,
     "metadata": {},
     "output_type": "execute_result"
    }
   ],
   "source": [
    "data_sample_till4= data_remove_authorsnote[:75]\n",
    "data_sample_till4[-1]"
   ]
  },
  {
   "cell_type": "markdown",
   "metadata": {},
   "source": [
    "## Stuff"
   ]
  },
  {
   "cell_type": "code",
   "execution_count": 93,
   "metadata": {},
   "outputs": [],
   "source": [
    "from langchain.chains.llm import LLMChain\n",
    "\n",
    "prompt_template = \"\"\"As an expert summarizer, your task is to extract key information from the text of Crime and Punishment,\n",
    " and then apply the provided instructions.\n",
    "\n",
    "1. Prioritize the identification of the Part and Chapter provided within the text.\n",
    "2. Skim the text to understand its overall theme and intent. \n",
    "3. Extract the core essence and primary themes of the story, ensuring to represent the author's primary intent accurately.\n",
    "4. Condense any significant points, arguments, or character's thoughts into a clear and succinct overview.\n",
    "5. For any events mentioned in the text, provide the characters, involved, date, time and place of the event ensuring that the essence of the event is captured succinctly.\n",
    "6. Present a compact summary of the text while maintaining clarity and conciseness that encapsulates:\n",
    "- Condensed order of events and character's thoughts into a clear and succinct overview.\n",
    "- For any events that take place, present them in their in respective order and their outcome.\n",
    "- For any characters introduced, briefly mention their relationships within a few words.\n",
    "7. DO NOT mention anything regarding \"text\", start the summary directly \n",
    "\n",
    "\n",
    "Your response should be a succinct paragraph, not exceeding 200 words, encapsulating the key information of the text.\n",
    " Avoid including any information outside the scope of the text's summary. ALWAYS give a summary of the given text.\n",
    "\n",
    "Text to be summarized is enclosed within ``` ``` markers:\n",
    "\n",
    "```{text}```\n",
    "\n",
    "CONCISE SUMMARY:\"\"\"\n",
    "prompt = PromptTemplate(template=prompt_template, input_variables=[\"text\"])\n",
    "\n",
    "llm_chain = LLMChain(llm=llm, prompt=prompt)"
   ]
  },
  {
   "cell_type": "code",
   "execution_count": 94,
   "metadata": {},
   "outputs": [],
   "source": [
    "from langchain.chains.combine_documents.stuff import StuffDocumentsChain\n",
    "# Define StuffDocumentsChain\n",
    "stuff_chain = StuffDocumentsChain(llm_chain=llm_chain, document_variable_name=\"text\")"
   ]
  },
  {
   "cell_type": "code",
   "execution_count": 245,
   "metadata": {},
   "outputs": [
    {
     "data": {
      "text/plain": [
       "[Document(page_content='Part I', metadata={'source': 'pdf\\\\crime-and-punishment.pdf', 'page': 5}),\n",
       " Document(page_content='\\x18 Chapter I\\nOn an exceptionally hot evening early in July a young \\nman came out of the garret in which he lodged in S. \\nPlace and walked slowly, as though in hesitation, towards \\nK. bridge.\\nHe had successfully avoided meeting his landlady on the \\nstaircase. His garret was under the roof of a high, five-sto -\\nried house and was more like a cupboard than a room. The \\nlandlady who provided him with garret, dinners, and at -\\ntendance, lived on the floor below, and every time he went \\nout he was obliged to pass her kitchen, the door of which \\ninvariably stood open. And each time he passed, the young \\nman had a sick, frightened feeling, which made him scowl \\nand feel ashamed. He was hopelessly in debt to his landlady, \\nand was afraid of meeting her.\\nThis was not because he was cowardly and abject, quite \\nthe contrary; but for some time past he had been in an over -\\nstrained irritable condition, verging on hypochondria. He \\nhad become so completely absorbed in himself, and iso -\\nlated from his fellows that he dreaded meeting, not only \\nhis landlady, but anyone at all. He was crushed by poverty, \\nbut the anxieties of his position had of late ceased to weigh \\nupon him. He had given up attending to matters of practi -\\ncal importance; he had lost all desire to do so. Nothing that \\nany landlady could do had a real terror for him. But to be ', metadata={'source': 'pdf\\\\crime-and-punishment.pdf', 'page': 6}),\n",
       " Document(page_content='stopped on the stairs, to be forced to listen to her trivial, ir -\\nrelevant gossip, to pestering demands for payment, threats \\nand complaints, and to rack his brains for excuses, to pre -\\nvaricate, to lie—no, rather than that, he would creep down \\nthe stairs like a cat and slip out unseen.\\nThis evening, however, on coming out into the street, he \\nbecame acutely aware of his fears.\\n‘I want to attempt a thing like that  and am frightened \\nby these trifles,’ he thought, with an odd smile. ‘Hm … yes, \\nall is in a man’s hands and he lets it all slip from cowardice, \\nthat’s an axiom. It would be interesting to know what it is \\nmen are most afraid of. Taking a new step, uttering a new \\nword is what they fear most…. But I am talking too much. \\nIt’s because I chatter that I do nothing. Or perhaps it is that \\nI chatter because I do nothing. I’ve learned to chatter this \\nlast month, lying for days together in my den thinking … \\nof Jack the Giant-killer. Why am I going there now? Am I \\ncapable of that? Is that serious? It is not serious at all. It’s \\nsimply a fantasy to amuse myself; a plaything! Yes, maybe \\nit is a plaything.’\\nThe heat in the street was terrible: and the airlessness, the \\nbustle and the plaster, scaffolding, bricks, and dust all about \\nhim, and that special Petersburg stench, so familiar to all \\nwho are unable to get out of town in summer—all worked \\npainfully upon the young man’s already overwrought \\nnerves. The insufferable stench from the pot- houses, which \\nare particularly numerous in that part of the town, and the \\ndrunken men whom he met continually, although it was a \\nworking day, completed the revolting misery of the picture. ', metadata={'source': 'pdf\\\\crime-and-punishment.pdf', 'page': 7}),\n",
       " Document(page_content='\\x18 An expression of the profoundest disgust gleamed for a mo -\\nment in the young man’s refined face. He was, by the way, \\nexceptionally handsome, above the average in height, slim, \\nwell-built, with beautiful dark eyes and dark brown hair. \\nSoon he sank into deep thought, or more accurately speak -\\ning into a complete blankness of mind; he walked along not \\nobserving what was about him and not caring to observe it. \\nFrom time to time, he would mutter something, from the \\nhabit of talking to himself, to which he had just confessed. \\nAt these moments he would become conscious that his ideas \\nwere sometimes in a tangle and that he was very weak; for \\ntwo days he had scarcely tasted food.\\nHe was so badly dressed that even a man accustomed to \\nshabbiness would have been ashamed to be seen in the street \\nin such rags. In that quarter of the town, however, scarce -\\nly any shortcoming in dress would have created surprise. \\nOwing to the proximity of the Hay Market, the number of \\nestablishments of bad character, the preponderance of the \\ntrading and working class population crowded in these \\nstreets and alleys in the heart of Petersburg, types so vari -\\nous were to be seen in the streets that no figure, however \\nqueer, would have caused surprise. But there was such accu -\\nmulated bitterness and contempt in the young man’s heart, \\nthat, in spite of all the fastidiousness of youth, he minded \\nhis rags least of all in the street. It was a different matter \\nwhen he met with acquaintances or with former fellow stu -\\ndents, whom, indeed, he disliked meeting at any time. And \\nyet when a drunken man who, for some unknown reason, \\nwas being taken somewhere in a huge waggon dragged by a ', metadata={'source': 'pdf\\\\crime-and-punishment.pdf', 'page': 8}),\n",
       " Document(page_content=' 10heavy dray horse, suddenly shouted at him as he drove past: \\n‘Hey there, German hatter’ bawling at the top of his voice \\nand pointing at him—the young man stopped suddenly \\nand clutched tremulously at his hat. It was a tall round hat \\nfrom Zimmerman’s, but completely worn out, rusty with \\nage, all torn and bespattered, brimless and bent on one side \\nin a most unseemly fashion. Not shame, however, but quite \\nanother feeling akin to terror had overtaken him.\\n‘I knew it,’ he muttered in confusion, ‘I thought so! That’s \\nthe worst of all! Why, a stupid thing like this, the most trivial \\ndetail might spoil the whole plan. Yes, my hat is too notice -\\nable…. It looks absurd and that makes it noticeable…. With \\nmy rags I ought to wear a cap, any sort of old pancake, but \\nnot this grotesque thing. Nobody wears such a hat, it would \\nbe noticed a mile off, it would be remembered…. What mat -\\nters is that people would remember it, and that would give \\nthem a clue. For this business one should be as little con -\\nspicuous as possible…. Trifles, trifles are what matter! Why, \\nit’s just such trifles that always ruin everything….’\\nHe had not far to go; he knew indeed how many steps \\nit was from the gate of his lodging house: exactly seven \\nhundred and thirty. He had counted them once when he \\nhad been lost in dreams. At the time he had put no faith \\nin those dreams and was only tantalising himself by their \\nhideous but daring recklessness. Now, a month later, he had \\nbegun to look upon them differently, and, in spite of the \\nmonologues in which he jeered at his own impotence and \\nindecision, he had involuntarily come to regard this ‘hid -\\neous’ dream as an exploit to be attempted, although he still ', metadata={'source': 'pdf\\\\crime-and-punishment.pdf', 'page': 9}),\n",
       " Document(page_content='11 did not realise this himself. He was positively going now for \\na ‘rehearsal’ of his project, and at every step his excitement \\ngrew more and more violent.\\nWith a sinking heart and a nervous tremor, he went up \\nto a huge house which on one side looked on to the canal, \\nand on the other into the street. This house was let out in \\ntiny tenements and was inhabited by working people of all \\nkinds—tailors, locksmiths, cooks, Germans of sorts, girls \\npicking up a living as best they could, petty clerks, etc. There \\nwas a continual coming and going through the two gates \\nand in the two courtyards of the house. Three or four door-\\nkeepers were employed on the building. The young man \\nwas very glad to meet none of them, and at once slipped un -\\nnoticed through the door on the right, and up the staircase. \\nIt was a back staircase, dark and narrow, but he was familiar \\nwith it already, and knew his way, and he liked all these sur -\\nroundings: in such darkness even the most inquisitive eyes \\nwere not to be dreaded.\\n‘If I am so scared now, what would it be if it somehow \\ncame to pass that I were really going to do it?’ he could not \\nhelp asking himself as he reached the fourth storey. There \\nhis progress was barred by some porters who were engaged \\nin moving furniture out of a flat. He knew that the flat had \\nbeen occupied by a German clerk in the civil service, and \\nhis family. This German was moving out then, and so the \\nfourth floor on this staircase would be untenanted except by \\nthe old woman. ‘That’s a good thing anyway,’ he thought to \\nhimself, as he rang the bell of the old woman’s flat. The bell \\ngave a faint tinkle as though it were made of tin and not of ', metadata={'source': 'pdf\\\\crime-and-punishment.pdf', 'page': 10}),\n",
       " Document(page_content=' 1\\x18copper. The little flats in such houses always have bells that \\nring like that. He had forgotten the note of that bell, and \\nnow its peculiar tinkle seemed to remind him of something \\nand to bring it clearly before him…. He started, his nerves \\nwere terribly overstrained by now. In a little while, the door \\nwas opened a tiny crack: the old woman eyed her visitor \\nwith evident distrust through the crack, and nothing could \\nbe seen but her little eyes, glittering in the darkness. But, \\nseeing a number of people on the landing, she grew bolder, \\nand opened the door wide. The young man stepped into the \\ndark entry, which was partitioned off from the tiny kitch -\\nen. The old woman stood facing him in silence and looking \\ninquiringly at him. She was a diminutive, withered up old \\nwoman of sixty, with sharp malignant eyes and a sharp lit -\\ntle nose. Her colourless, somewhat grizzled hair was thickly \\nsmeared with oil, and she wore no kerchief over it. Round \\nher thin long neck, which looked like a hen’s leg, was knot -\\nted some sort of flannel rag, and, in spite of the heat, there \\nhung flapping on her shoulders, a mangy fur cape, yellow \\nwith age. The old woman coughed and groaned at every in -\\nstant. The young man must have looked at her with a rather \\npeculiar expression, for a gleam of mistrust came into her \\neyes again.\\n‘Raskolnikov, a student, I came here a month ago,’ the \\nyoung man made haste to mutter, with a half bow, remem -\\nbering that he ought to be more polite.\\n‘I remember, my good sir, I remember quite well your \\ncoming here,’ the old woman said distinctly, still keeping \\nher inquiring eyes on his face.', metadata={'source': 'pdf\\\\crime-and-punishment.pdf', 'page': 11}),\n",
       " Document(page_content='1\\x18 ‘And here … I am again on the same errand,’ Raskol -\\nnikov continued, a little disconcerted and surprised at \\nthe old woman’s mistrust. ‘Perhaps she is always like that \\nthough, only I did not notice it the other time,’ he thought \\nwith an uneasy feeling.\\nThe old woman paused, as though hesitating; then \\nstepped on one side, and pointing to the door of the room, \\nshe said, letting her visitor pass in front of her:\\n‘Step in, my good sir.’\\nThe little room into which the young man walked, with \\nyellow paper on the walls, geraniums and muslin curtains \\nin the windows, was brightly lighted up at that moment by \\nthe setting sun.\\n‘So the sun will shine like this then  too!’ flashed as it were \\nby chance through Raskolnikov’s mind, and with a rapid \\nglance he scanned everything in the room, trying as far as \\npossible to notice and remember its arrangement. But there \\nwas nothing special in the room. The furniture, all very old \\nand of yellow wood, consisted of a sofa with a huge bent \\nwooden back, an oval table in front of the sofa, a dressing-\\ntable with a looking-glass fixed on it between the windows, \\nchairs along the walls and two or three half-penny prints in \\nyellow frames, representing German damsels with birds in \\ntheir hands—that was all. In the corner a light was burning \\nbefore a small ikon. Everything was very clean; the floor and \\nthe furniture were brightly polished; everything shone.\\n‘Lizaveta’s work,’ thought the young man. There was not \\na speck of dust to be seen in the whole flat.\\n‘It’s in the houses of spiteful old widows that one finds ', metadata={'source': 'pdf\\\\crime-and-punishment.pdf', 'page': 12}),\n",
       " Document(page_content=' 1\\x18such cleanliness,’ Raskolnikov thought again, and he stole \\na curious glance at the cotton curtain over the door leading \\ninto another tiny room, in which stood the old woman’s bed \\nand chest of drawers and into which he had never looked \\nbefore. These two rooms made up the whole flat.\\n‘What do you want?’ the old woman said severely, com -\\ning into the room and, as before, standing in front of him so \\nas to look him straight in the face.\\n‘I’ve brought something to pawn here,’ and he drew out \\nof his pocket an old-fashioned flat silver watch, on the back \\nof which was engraved a globe; the chain was of steel.\\n‘But the time is up for your last pledge. The month was up \\nthe day before yesterday.’\\n‘I will bring you the interest for another month; wait a \\nlittle.’\\n‘But that’s for me to do as I please, my good sir, to wait or \\nto sell your pledge at once.’\\n‘How much will you give me for the watch, Alyona Iva -\\nnovna?’\\n‘You come with such trifles, my good sir, it’s scarcely \\nworth anything. I gave you two roubles last time for your \\nring and one could buy it quite new at a jeweler’s for a rou -\\nble and a half.’\\n‘Give me four roubles for it, I shall redeem it, it was my \\nfather’s. I shall be getting some money soon.’\\n‘A rouble and a half, and interest in advance, if you like!’\\n‘A rouble and a half!’ cried the young man.\\n‘Please yourself’—and the old woman handed him back \\nthe watch. The young man took it, and was so angry that he ', metadata={'source': 'pdf\\\\crime-and-punishment.pdf', 'page': 13}),\n",
       " Document(page_content='1\\x18 was on the point of going away; but checked himself at once, \\nremembering that there was nowhere else he could go, and \\nthat he had had another object also in coming.\\n‘Hand it over,’ he said roughly.\\nThe old woman fumbled in her pocket for her keys, and \\ndisappeared behind the curtain into the other room. The \\nyoung man, left standing alone in the middle of the room, \\nlistened inquisitively, thinking. He could hear her unlock -\\ning the chest of drawers.\\n‘It must be the top drawer,’ he reflected. ‘So she carries \\nthe keys in a pocket on the right. All in one bunch on a steel \\nring…. And there’s one key there, three times as big as all \\nthe others, with deep notches; that can’t be the key of the \\nchest of drawers … then there must be some other chest or \\nstrong-box … that’s worth knowing. Strong-boxes always \\nhave keys like that … but how degrading it all is.’\\nThe old woman came back.\\n‘Here, sir: as we say ten copecks the rouble a month, so \\nI must take fifteen copecks from a rouble and a half for the \\nmonth in advance. But for the two roubles I lent you before, \\nyou owe me now twenty copecks on the same reckoning \\nin advance. That makes thirty-five copecks altogether. So \\nI must give you a rouble and fifteen copecks for the watch. \\nHere it is.’\\n‘What! only a rouble and fifteen copecks now!’\\n‘Just so.’\\nThe young man did not dispute it and took the money. \\nHe looked at the old woman, and was in no hurry to get \\naway, as though there was still something he wanted to say ', metadata={'source': 'pdf\\\\crime-and-punishment.pdf', 'page': 14}),\n",
       " Document(page_content=' 1\\x18or to do, but he did not himself quite know what.\\n‘I may be bringing you something else in a day or two, \\nAlyona Ivanovna —a valuable thing—silver—a cigarette-\\nbox, as soon as I get it back from a friend …’ he broke off in \\nconfusion.\\n‘Well, we will talk about it then, sir.’\\n‘Good-bye—are you always at home alone, your sister is \\nnot here with you?’ He asked her as casually as possible as \\nhe went out into the passage.\\n‘What business is she of yours, my good sir?’\\n‘Oh, nothing particular, I simply asked. You are too \\nquick…. Good-day, Alyona Ivanovna.’\\nRaskolnikov went out in complete confusion. This con -\\nfusion became more and more intense. As he went down the \\nstairs, he even stopped short, two or three times, as though \\nsuddenly struck by some thought. When he was in the street \\nhe cried out, ‘Oh, God, how loathsome it all is! and can I, \\ncan I possibly…. No, it’s nonsense, it’s rubbish!’ he added \\nresolutely. ‘And how could such an atrocious thing come \\ninto my head? What filthy things my heart is capable of. Yes, \\nfilthy above all, disgusting, loathsome, loathsome!—and for \\na whole month I’ve been….’ But no words, no exclamations, \\ncould express his agitation. The feeling of intense repulsion, \\nwhich had begun to oppress and torture his heart while he \\nwas on his way to the old woman, had by now reached such \\na pitch and had taken such a definite form that he did not \\nknow what to do with himself to escape from his wretched -\\nness. He walked along the pavement like a drunken man, \\nregardless of the passers-by, and jostling against them, and ', metadata={'source': 'pdf\\\\crime-and-punishment.pdf', 'page': 15}),\n",
       " Document(page_content='1\\x18 only came to his senses when he was in the next street. Look -\\ning round, he noticed that he was standing close to a tavern \\nwhich was entered by steps leading from the pavement to \\nthe basement. At that instant two drunken men came out \\nat the door, and abusing and supporting one another, they \\nmounted the steps. Without stopping to think, Raskolnikov \\nwent down the steps at once. Till that moment he had never \\nbeen into a tavern, but now he felt giddy and was tormented \\nby a burning thirst. He longed for a drink of cold beer, and \\nattributed his sudden weakness to the want of food. He sat \\ndown at a sticky little table in a dark and dirty corner; or -\\ndered some beer, and eagerly drank off the first glassful. At \\nonce he felt easier; and his thoughts became clear.\\n‘All that’s nonsense,’ he said hopefully, ‘and there is noth -\\ning in it all to worry about! It’s simply physical derangement. \\nJust a glass of beer, a piece of dry bread—and in one mo -\\nment the brain is stronger, the mind is clearer and the will \\nis firm! Phew, how utterly petty it all is!’\\nBut in spite of this scornful reflection, he was by now \\nlooking cheerful as though he were suddenly set free from \\na terrible burden: and he gazed round in a friendly way at \\nthe people in the room. But even at that moment he had a \\ndim foreboding that this happier frame of mind was also \\nnot normal.\\nThere were few people at the time in the tavern. Besides \\nthe two drunken men he had met on the steps, a group con -\\nsisting of about five men and a girl with a concertina had \\ngone out at the same time. Their departure left the room \\nquiet and rather empty. The persons still in the tavern were ', metadata={'source': 'pdf\\\\crime-and-punishment.pdf', 'page': 16}),\n",
       " Document(page_content=' 1\\x18a man who appeared to be an artisan, drunk, but not ex -\\ntremely so, sitting before a pot of beer, and his companion, \\na huge, stout man with a grey beard, in a short full-skirted \\ncoat. He was very drunk: and had dropped asleep on the \\nbench; every now and then, he began as though in his sleep, \\ncracking his fingers, with his arms wide apart and the up -\\nper part of his body bounding about on the bench, while he \\nhummed some meaningless refrain, trying to recall some \\nsuch lines as these:\\n‘His wife a year he fondly loved His wife a—a year he—\\nfondly loved.’\\nOr suddenly waking up again:\\n‘Walking along the crowded row He met the one he used \\nto know.’\\nBut no one shared his enjoyment: his silent compan -\\nion looked with positive hostility and mistrust at all these \\nmanifestations. There was another man in the room who \\nlooked somewhat like a retired government clerk. He was \\nsitting apart, now and then sipping from his pot and look -\\ning round at the company. He, too, appeared to be in some \\nagitation.', metadata={'source': 'pdf\\\\crime-and-punishment.pdf', 'page': 17})]"
      ]
     },
     "execution_count": 245,
     "metadata": {},
     "output_type": "execute_result"
    }
   ],
   "source": [
    "data_sample[:13]"
   ]
  },
  {
   "cell_type": "markdown",
   "metadata": {},
   "source": [
    "`uses 15k tokens for first two chapters`"
   ]
  },
  {
   "cell_type": "code",
   "execution_count": 96,
   "metadata": {},
   "outputs": [],
   "source": [
    "stuff_summary = stuff_chain.run(data_sample)"
   ]
  },
  {
   "cell_type": "code",
   "execution_count": 97,
   "metadata": {},
   "outputs": [
    {
     "data": {
      "text/plain": [
       "\"The text follows a young man, Raskolnikov, as he walks through the streets of Petersburg, struggling with poverty and inner turmoil. He is deeply in debt to his landlady and is avoiding her, feeling isolated and irritable. He contemplates taking a new step but is plagued by fear and self-doubt. He encounters a drunken man, Marmeladov, who shares his tragic story of poverty and family struggles. Marmeladov's wife, Katerina Ivanovna, is in despair over their dire situation. Raskolnikov witnesses their distress and leaves money for them before walking away, reflecting on the struggles of those around him.\""
      ]
     },
     "execution_count": 97,
     "metadata": {},
     "output_type": "execute_result"
    }
   ],
   "source": [
    "stuff_summary"
   ]
  },
  {
   "cell_type": "code",
   "execution_count": 98,
   "metadata": {},
   "outputs": [
    {
     "data": {
      "text/plain": [
       "140"
      ]
     },
     "execution_count": 98,
     "metadata": {},
     "output_type": "execute_result"
    }
   ],
   "source": [
    "num_tokens = llm.get_num_tokens(stuff_summary)\n",
    "num_tokens"
   ]
  },
  {
   "cell_type": "code",
   "execution_count": 99,
   "metadata": {},
   "outputs": [
    {
     "name": "stdout",
     "output_type": "stream",
     "text": [
      "609 characters\n"
     ]
    }
   ],
   "source": [
    "print(len(stuff_summary), \"characters\")\n",
    "##roughly 2000 characters per page are ideal"
   ]
  },
  {
   "cell_type": "code",
   "execution_count": 100,
   "metadata": {},
   "outputs": [
    {
     "name": "stdout",
     "output_type": "stream",
     "text": [
      "String saved to stuff_summary_2.txt\n"
     ]
    }
   ],
   "source": [
    "\n",
    "# Specify the file path where you want to save the text file\n",
    "file_path = \"stuff_summary_2.txt\"\n",
    "\n",
    "# Open the file in write mode and save the string\n",
    "with open(file_path, \"w\") as file:\n",
    "    file.write(stuff_summary)\n",
    "\n",
    "print(f\"String saved to {file_path}\")"
   ]
  },
  {
   "cell_type": "markdown",
   "metadata": {},
   "source": [
    "`The stuffing method is a way to summarize text by feeding the entire document to LLM in a single call. If the document is longer than the context length, the stuffing method will not work. Also the stuffing method is not suitable for summarizing large documents, as it can be slow and may not produce a good summary. Not suitable for our case`"
   ]
  },
  {
   "cell_type": "markdown",
   "metadata": {},
   "source": [
    "## Map Reduce"
   ]
  },
  {
   "cell_type": "markdown",
   "metadata": {},
   "source": [
    "The MapReduce method implements a multi-stage summarization. It is a technique for summarizing large pieces of text by first summarizing smaller chunks of text and then combining those summaries into a single summary."
   ]
  },
  {
   "cell_type": "code",
   "execution_count": 340,
   "metadata": {},
   "outputs": [],
   "source": [
    "map_prompt_template = \"\"\"\n",
    "                      Write a concise summary from the text. Pay close attention to the following: \n",
    "                       - any events that took place, \n",
    "                       - thoughts of the characters mentioned in text,\n",
    "                       - while retaining essence of the text\n",
    "                       ```\n",
    "                      {text}\n",
    "                      ```\n",
    "                      SUMMARY: \n",
    "                      \"\"\"\n",
    "map_prompt = PromptTemplate(template=map_prompt_template, input_variables=[\"text\"])\n",
    "\n",
    "combine_prompt_template = \"\"\"As a professional summarizer, create a comprehensive and reader-friendly summary of the provided text, extracted from a document ,\n",
    " while adhering to these guidelines:\n",
    "\n",
    "Carefully examine the text to create a comprehensive and reader-friendly summary of the provided text,\n",
    " while adhering to these guidelines:\n",
    " \n",
    "1. Skim the text to understand its overall theme and intent. \n",
    "2. Analyze the core essence and primary themes of the story, ensuring to represent the author's primary intent accurately.\n",
    "3. Condense any significant points, arguments, or character's thoughts into a clear and succinct overview.\n",
    "4. For any events mentioned in the text, provide the characters, involved, date, time and place of the event ensuring that the essence of the event is captured succinctly.\n",
    "5. Present a clear and comprehensive summary of the text while maintaining clarity and conciseness that encapsulates:\n",
    "    - Condensed order of events and character's thoughts into a clear and succinct overview.\n",
    "    - For any events that take place, Trace them in their in the order they are presented and their outcome.\n",
    "    - For any characters introduced, briefly mention their relationships within a few words.\n",
    "    - Rely strictly on the provided text, without including external information.\n",
    "    - Ensure the generated summary is coherent, comprehensive, and reader-friendly. \n",
    "    - DO NOT use phrases similar to \"The text also describes \", \"The text discusses \" in summary. \n",
    "6. DO NOT mention anything regarding \"text\". Start the summary directly.\n",
    "\n",
    "\n",
    "Your response should be a succinct paragraph, not exceeding 250 words, encapsulating the essence and primary themes of provided text.\n",
    "Avoid including any information outside the scope of the provided text.\n",
    "DO NOT mention anything regarding \"text\". DO NOT use phrases similar to \"The text also describes \" in summary. Start the summary directly.\n",
    "\n",
    "Text to be summarized is enclosed within ``` ``` markers:\n",
    "\n",
    "```{text}```\n",
    "\n",
    "SUMMARY:\"\"\"\n",
    "\n",
    "combine_prompt = PromptTemplate(\n",
    "    template=combine_prompt_template, input_variables=[\"context\",\"text\"]\n",
    ")"
   ]
  },
  {
   "cell_type": "code",
   "execution_count": 341,
   "metadata": {},
   "outputs": [],
   "source": [
    "map_reduce_chain = load_summarize_chain(\n",
    "    llm,\n",
    "    chain_type=\"map_reduce\",\n",
    "    map_prompt=map_prompt,\n",
    "    combine_prompt=combine_prompt,\n",
    "    return_intermediate_steps=True,\n",
    ")"
   ]
  },
  {
   "cell_type": "code",
   "execution_count": 342,
   "metadata": {},
   "outputs": [],
   "source": [
    "map_reduce_outputs = map_reduce_chain({\"input_documents\":  data_sample[13:]})"
   ]
  },
  {
   "cell_type": "code",
   "execution_count": 343,
   "metadata": {},
   "outputs": [
    {
     "data": {
      "text/plain": [
       "\"Raskolnikov, feeling weary and desiring company, visits a filthy tavern and encounters Marmeladov, a drunk and disheveled man who shares his humiliation and suffering. Marmeladov justifies his behavior and expresses his desperation and self-loathing. He also discusses his wife's noble qualities and the hardships she faces. Katerina Ivanovna, Marmeladov's wife, struggles to feed her children and is mistreated by others. The family's living conditions improve when Marmeladov gets a job, and Katerina Ivanovna seems to believe her own fabrications. Marmeladov expresses love for his family and remorse for his actions, seeking redemption. He speaks about forgiveness and judgment, and envisions a scene where all will be accepted by God. Raskolnikov accompanies Marmeladov to Katerina Ivanovna's house, where chaos and disorder ensue. The text also discusses the idea that man grows used to everything and expresses a moment of doubt about negative perceptions of mankind.\""
      ]
     },
     "execution_count": 343,
     "metadata": {},
     "output_type": "execute_result"
    }
   ],
   "source": [
    "map_reduce_outputs[\"output_text\"]"
   ]
  },
  {
   "cell_type": "code",
   "execution_count": 187,
   "metadata": {},
   "outputs": [
    {
     "name": "stdout",
     "output_type": "stream",
     "text": [
      "String saved to map_reduce_6.txt\n"
     ]
    }
   ],
   "source": [
    "# Specify the file path where you want to save the text file\n",
    "file_path = \"map_reduce_6.txt\"\n",
    "\n",
    "# Open the file in write mode and save the string\n",
    "with open(file_path, \"w\") as file:\n",
    "    file.write(map_reduce_outputs[\"output_text\"])\n",
    "\n",
    "print(f\"String saved to {file_path}\")"
   ]
  },
  {
   "cell_type": "markdown",
   "metadata": {},
   "source": [
    "### Combine prompts using templates"
   ]
  },
  {
   "cell_type": "code",
   "execution_count": null,
   "metadata": {},
   "outputs": [],
   "source": [
    "map_prompt_template = \"\"\"\n",
    "                      Write a concise summary from the text. Pay close attention to the following: \n",
    "                       - any events that took place, \n",
    "                       - thoughts of the characters mentioned in text,\n",
    "                       - while retaining essence of the text\n",
    "                       ```\n",
    "                      {text}\n",
    "                      ```\n",
    "                      SUMMARY: \n",
    "                      \"\"\"\n",
    "map_prompt = PromptTemplate(template=map_prompt_template, input_variables=[\"text\"])"
   ]
  },
  {
   "cell_type": "code",
   "execution_count": null,
   "metadata": {},
   "outputs": [],
   "source": [
    "prev_output = \"\"\"The story follows a young man, Raskolnikov, who is deeply in debt and feeling isolated and irritable. He is overwhelmed and anxious as he navigates through the crowded and unpleasant streets of Petersburg. Raskolnikov is plagued by fears and self-doubt, feeling trapped and suffocated by his surroundings and his own thoughts. He visits an old woman to pawn a watch, but she refuses to give him a fair price, leaving him desperate and frustrated. He becomes increasingly confused and agitated, questioning his own thoughts and actions, and enters a tavern for the first time, feeling a sense of relief and clarity after drinking a beer. In the tavern, he encounters a drunk artisan, a stout man, and a retired government clerk, all of whom seem agitated. The story captures the protagonist's inner turmoil and the oppressive nature of his environment.\"\"\""
   ]
  },
  {
   "cell_type": "code",
   "execution_count": 324,
   "metadata": {},
   "outputs": [],
   "source": [
    "combine_prompt_template = \"\"\"As a professional summarizer, create a comprehensive and reader-friendly summary of the provided text, extracted from a document, while adhering to these guidelines:\n",
    "\n",
    "1. Examine the context which is summary of previous passage of the document, from which text is extracted.\n",
    "2. Examine the characters introduced, and their relationships in between to build context.\n",
    "3. Trace the events that took place to understand the background.\n",
    "4. Use the context to craft a coherent summary for the text provided below.\n",
    "5. If Context is not provided, then ignore.\n",
    "\n",
    "USE CONTEXT ONLY TO EXAMINE and develop coherence. DO NOT INCLUDE IT IN SUMMARY.\n",
    "```Context:\n",
    "{context_block}\n",
    "```\n",
    "\n",
    "Now carefully examine the text to create a comprehensive and reader-friendly summary of the provided text, while adhering to these guidelines:\n",
    " \n",
    "1. Skim the text to understand its overall theme and intent. \n",
    "2. Analyze the core essence and primary themes of the story, ensuring to represent the author's primary intent accurately.\n",
    "3. Condense any significant points, arguments, or character's thoughts into a clear and succinct overview.\n",
    "4. For any events mentioned in the text, provide the characters, involved, date, time and place of the event ensuring that the essence of the event is captured succinctly.\n",
    "5. Present a clear and comprehensive summary of the text while maintaining clarity and conciseness that encapsulates:\n",
    "    - Condensed order of events and character's thoughts into a clear and succinct overview.\n",
    "    - For any events that take place, Trace them in their in the order they are presented and their outcome.\n",
    "    - For any characters introduced, briefly mention their relationships within a few words.\n",
    "    - Rely strictly on the provided text, without including external information.\n",
    "    - Ensure the generated summary is coherent, comprehensive, and reader-friendly. \n",
    "    - DO NOT use phrases similar to \"The text also describes \", \"The text discusses \" in summary. \n",
    "6. DO NOT mention anything regarding \"text\". Start the summary directly.\n",
    "\n",
    "\n",
    "Your response should be a succinct paragraph, not exceeding 250 words, encapsulating the essence and primary themes of provided text.\n",
    "Avoid including any information outside the scope of the provided text.\n",
    "DO NOT mention anything regarding \"text\". DO NOT use phrases similar to \"The text also describes \" in summary. Start the summary directly.\n",
    "\n",
    "Text to be summarized is enclosed within ``` ``` markers:\n",
    "\n",
    "```{text}```\n",
    "\n",
    "SUMMARY:\"\"\"\n",
    "\n",
    "# When preparing the combine prompt, check if the context is present and include it accordingly\n",
    "context = prev_output  # Assume this is fetched or determined as part of your logic\n",
    "context_block = context_block_template.format(context=context) if context else \"\"\n",
    "\n",
    "combine_prompt = combine_prompt_template.format(context_block=context_block, text=\"{text}\")\n"
   ]
  },
  {
   "cell_type": "code",
   "execution_count": null,
   "metadata": {},
   "outputs": [],
   "source": [
    "combine_prompt_format =  combine_prompt.format(text=data_sample[13:], context = prev_output)"
   ]
  },
  {
   "cell_type": "code",
   "execution_count": null,
   "metadata": {},
   "outputs": [],
   "source": []
  },
  {
   "cell_type": "markdown",
   "metadata": {},
   "source": [
    "### Intermediate steps saved"
   ]
  },
  {
   "cell_type": "code",
   "execution_count": 107,
   "metadata": {},
   "outputs": [],
   "source": [
    "from pathlib import Path\n",
    "final_mp_data = []\n",
    "for doc, out in zip(\n",
    "    map_reduce_outputs[\"input_documents\"], map_reduce_outputs[\"intermediate_steps\"]\n",
    "):\n",
    "    output = {}\n",
    "    output[\"file_name\"] = Path(doc.metadata[\"source\"]).stem\n",
    "    output[\"file_type\"] = Path(doc.metadata[\"source\"]).suffix\n",
    "    output[\"page_number\"] = doc.metadata[\"page\"]\n",
    "    output[\"chunks\"] = doc.page_content\n",
    "    output[\"concise_summary\"] = out\n",
    "    final_mp_data.append(output)"
   ]
  },
  {
   "cell_type": "code",
   "execution_count": 109,
   "metadata": {},
   "outputs": [
    {
     "data": {
      "text/html": [
       "<div>\n",
       "<style scoped>\n",
       "    .dataframe tbody tr th:only-of-type {\n",
       "        vertical-align: middle;\n",
       "    }\n",
       "\n",
       "    .dataframe tbody tr th {\n",
       "        vertical-align: top;\n",
       "    }\n",
       "\n",
       "    .dataframe thead th {\n",
       "        text-align: right;\n",
       "    }\n",
       "</style>\n",
       "<table border=\"1\" class=\"dataframe\">\n",
       "  <thead>\n",
       "    <tr style=\"text-align: right;\">\n",
       "      <th></th>\n",
       "      <th>file_name</th>\n",
       "      <th>file_type</th>\n",
       "      <th>page_number</th>\n",
       "      <th>chunks</th>\n",
       "      <th>concise_summary</th>\n",
       "    </tr>\n",
       "  </thead>\n",
       "  <tbody>\n",
       "    <tr>\n",
       "      <th>0</th>\n",
       "      <td>crime-and-punishment</td>\n",
       "      <td>.pdf</td>\n",
       "      <td>5</td>\n",
       "      <td>Part I</td>\n",
       "      <td>In this text, the main points revolve around t...</td>\n",
       "    </tr>\n",
       "    <tr>\n",
       "      <th>1</th>\n",
       "      <td>crime-and-punishment</td>\n",
       "      <td>.pdf</td>\n",
       "      <td>6</td>\n",
       "      <td>\u0018 Chapter I\\nOn an exceptionally hot evening e...</td>\n",
       "      <td>Summary:\\nIn Chapter I, a young man living in ...</td>\n",
       "    </tr>\n",
       "    <tr>\n",
       "      <th>2</th>\n",
       "      <td>crime-and-punishment</td>\n",
       "      <td>.pdf</td>\n",
       "      <td>7</td>\n",
       "      <td>stopped on the stairs, to be forced to listen ...</td>\n",
       "      <td>The text describes a man feeling overwhelmed b...</td>\n",
       "    </tr>\n",
       "    <tr>\n",
       "      <th>3</th>\n",
       "      <td>crime-and-punishment</td>\n",
       "      <td>.pdf</td>\n",
       "      <td>8</td>\n",
       "      <td>\u0018 An expression of the profoundest disgust gle...</td>\n",
       "      <td>The text describes a young man who is exceptio...</td>\n",
       "    </tr>\n",
       "    <tr>\n",
       "      <th>4</th>\n",
       "      <td>crime-and-punishment</td>\n",
       "      <td>.pdf</td>\n",
       "      <td>9</td>\n",
       "      <td>10heavy dray horse, suddenly shouted at him a...</td>\n",
       "      <td>The text describes a young man who is suddenly...</td>\n",
       "    </tr>\n",
       "  </tbody>\n",
       "</table>\n",
       "</div>"
      ],
      "text/plain": [
       "              file_name file_type  page_number  \\\n",
       "0  crime-and-punishment      .pdf            5   \n",
       "1  crime-and-punishment      .pdf            6   \n",
       "2  crime-and-punishment      .pdf            7   \n",
       "3  crime-and-punishment      .pdf            8   \n",
       "4  crime-and-punishment      .pdf            9   \n",
       "\n",
       "                                              chunks  \\\n",
       "0                                             Part I   \n",
       "1  \u0018 Chapter I\\nOn an exceptionally hot evening e...   \n",
       "2  stopped on the stairs, to be forced to listen ...   \n",
       "3  \u0018 An expression of the profoundest disgust gle...   \n",
       "4   10heavy dray horse, suddenly shouted at him a...   \n",
       "\n",
       "                                     concise_summary  \n",
       "0  In this text, the main points revolve around t...  \n",
       "1  Summary:\\nIn Chapter I, a young man living in ...  \n",
       "2  The text describes a man feeling overwhelmed b...  \n",
       "3  The text describes a young man who is exceptio...  \n",
       "4  The text describes a young man who is suddenly...  "
      ]
     },
     "execution_count": 109,
     "metadata": {},
     "output_type": "execute_result"
    }
   ],
   "source": [
    "import pandas as pd\n",
    "pdf_mp_summary = pd.DataFrame.from_dict(final_mp_data)\n",
    "pdf_mp_summary = pdf_mp_summary.sort_values(\n",
    "    by=[\"file_name\", \"page_number\"]\n",
    ")  # sorting the dataframe by filename and page_number\n",
    "pdf_mp_summary.reset_index(inplace=True, drop=True)\n",
    "pdf_mp_summary.head()"
   ]
  },
  {
   "cell_type": "code",
   "execution_count": 112,
   "metadata": {},
   "outputs": [
    {
     "name": "stdout",
     "output_type": "stream",
     "text": [
      "\n",
      "[Simple Summary]\n",
      "The text describes a young man who is exceptionally handsome but badly dressed, walking through the streets of Petersburg in a state of deep thought and physical weakness. He is so disgusted with his surroundings and his own circumstances that he does not care about his appearance, even though he is aware of his shabbiness. The area he is in is filled with a variety of people, so his appearance does not stand out. He also dislikes meeting acquaintances or former fellow students. The text conveys a sense of bitterness and contempt in the young man's heart.\n",
      "\n",
      "[Page number]\n",
      "8\n"
     ]
    }
   ],
   "source": [
    "index = 3\n",
    "print(\"\\n[Simple Summary]\")\n",
    "print(pdf_mp_summary[\"concise_summary\"].iloc[index])\n",
    "print(\"\\n[Page number]\")\n",
    "print(pdf_mp_summary[\"page_number\"].iloc[index])"
   ]
  },
  {
   "cell_type": "code",
   "execution_count": 164,
   "metadata": {},
   "outputs": [
    {
     "name": "stdout",
     "output_type": "stream",
     "text": [
      "Summary saved to map_reduce_1.txt\n"
     ]
    }
   ],
   "source": [
    "# Save the summary to a text file\n",
    "output_file_path = \"map_reduce_1.txt\"\n",
    "with open(output_file_path, \"w\") as file:\n",
    "    for index, row in pdf_mp_summary.iterrows():\n",
    "        file.write(f\"[Page Number]: {row['page_number']}\\n\")\n",
    "        file.write(f\"[Concise Summary]: {row['concise_summary']}\\n\\n\")\n",
    "\n",
    "print(f\"Summary saved to {output_file_path}\")"
   ]
  },
  {
   "cell_type": "markdown",
   "metadata": {},
   "source": [
    "### Summary from intermediate steps"
   ]
  },
  {
   "cell_type": "code",
   "execution_count": 165,
   "metadata": {},
   "outputs": [],
   "source": [
    "summary_string = \"\\n\\n\".join(pdf_mp_summary[\"concise_summary\"])"
   ]
  },
  {
   "cell_type": "code",
   "execution_count": 120,
   "metadata": {},
   "outputs": [],
   "source": [
    "mapr_summary = llm.invoke(f\"\"\"As an expert summarizer, your task is to extract key information from the text of Crime and Punishment,\n",
    " and then apply the provided instructions.\n",
    "\n",
    "1. Prioritize the identification of the Part and Chapter provided within the text.\n",
    "2. Skim the document to understand its overall theme and intent. \n",
    "3. Extract the core essence and primary themes of the document, ensuring to represent the author's primary intent accurately.\n",
    "4. Condense any significant points, arguments, or character's thoughts into a clear and succinct overview.\n",
    "5. For any events mentioned in the text, provide the characters involved, date, time and place of the event ensuring that the essence of the event is captured succinctly.\n",
    "6. Present a compact summary that encapsulates:\n",
    "- Condensed significant points, arguments, or character's thoughts into a clear and succinct overview.\n",
    "- Any events that take place and their outcome.\n",
    "\n",
    "\n",
    "Your response should be a succinct paragraph, not exceeding 200 words, encapsulating the key information of the text.\n",
    " Avoid including any information outside the scope of the text's summary. ALWAYS give a summary of the given text.\n",
    "\n",
    "Text to be summarized is enclosed within ``` ``` markers:\n",
    "\n",
    "```{summary_string}```\n",
    "\n",
    "CONCISE SUMMARY:\"\"\")"
   ]
  },
  {
   "cell_type": "code",
   "execution_count": 126,
   "metadata": {},
   "outputs": [
    {
     "data": {
      "text/plain": [
       "\"The text focuses on the events and thoughts of the characters in Part I, introducing them and exploring their emotions. It describes a young man, Raskolnikov, feeling overwhelmed by poverty and isolation, and contemplating a new endeavor. He visits an old woman to pawn a watch, but she refuses to give him a fair price. Raskolnikov then demands something from her and listens to her movements to figure out where she keeps her keys. He becomes overwhelmed with fear and confusion, realizing that his hat could ruin his plans. The text also portrays the desperation and poverty of Marmeladov and his family, as well as the emotional turmoil and despair of the characters. The setting is described as dark and disorderly, with chaotic and tense atmospheres. The characters express feelings of worthlessness, hopelessness, and guilt, and struggle with poverty, alcoholism, and desperation. The text captures the internal struggles and moral ambiguity of the characters' actions and thoughts.\""
      ]
     },
     "execution_count": 126,
     "metadata": {},
     "output_type": "execute_result"
    }
   ],
   "source": [
    "mapr_summary.content"
   ]
  },
  {
   "cell_type": "code",
   "execution_count": 127,
   "metadata": {},
   "outputs": [
    {
     "name": "stdout",
     "output_type": "stream",
     "text": [
      "String saved to map_reduce_2.txt\n"
     ]
    }
   ],
   "source": [
    "# Specify the file path where you want to save the text file\n",
    "file_path = \"map_reduce_2.txt\"\n",
    "\n",
    "# Open the file in write mode and save the string\n",
    "with open(file_path, \"w\") as file:\n",
    "    file.write(mapr_summary.content)\n",
    "\n",
    "print(f\"String saved to {file_path}\")"
   ]
  },
  {
   "cell_type": "markdown",
   "metadata": {},
   "source": [
    "MapReduce requires multiple calls to the model and potentially losing context between pages."
   ]
  },
  {
   "cell_type": "markdown",
   "metadata": {},
   "source": [
    "## Refine"
   ]
  },
  {
   "cell_type": "code",
   "execution_count": 350,
   "metadata": {},
   "outputs": [],
   "source": [
    "question_prompt_template = \"\"\"\n",
    "                      Write a concise summary from the text. Pay close attention to the following: \n",
    "                       - any events that took place, \n",
    "                       - thoughts of the characters mentioned in text,\n",
    "                       - while retaining essence of the text\n",
    "                       ```\n",
    "                      {text}\n",
    "                      ```\n",
    "                      SUMMARY: \n",
    "                      \"\"\"\n",
    "\n",
    "question_prompt = PromptTemplate(\n",
    "    template=question_prompt_template, input_variables=[\"text\"]\n",
    ")\n",
    "\n",
    "refine_prompt_template = \"\"\"As a professional summarizer, create a comprehensive and reader-friendly summary of the provided text, extracted from a document ,\n",
    " while adhering to these guidelines:\n",
    "\n",
    "Carefully examine the text to create a comprehensive and reader-friendly summary of the provided text,\n",
    " while adhering to these guidelines:\n",
    " \n",
    "1. Skim the text to understand its overall theme and intent. \n",
    "2. Analyze the core essence and primary themes of the story, ensuring to represent the author's primary intent accurately.\n",
    "3. Condense any significant points, arguments, or character's thoughts into a clear and succinct overview.\n",
    "4. For any events mentioned in the text, provide the characters, involved, date, time and place of the event ensuring that the essence of the event is captured succinctly.\n",
    "5. Present a clear and comprehensive summary of the text while maintaining clarity and conciseness that encapsulates:\n",
    "    - Condensed order of events and character's thoughts into a clear and succinct overview.\n",
    "    - For any events that take place, Trace them in their in the order they are presented and their outcome.\n",
    "    - For any characters introduced, briefly mention their relationships within a few words.\n",
    "    - Rely strictly on the provided text, without including external information.\n",
    "    - Ensure the generated summary is coherent, comprehensive, and reader-friendly. \n",
    "    - DO NOT use phrases similar to \"The text also describes \", \"The text discusses \" in summary. \n",
    "6. DO NOT mention anything regarding \"text\". Start the summary directly.\n",
    "\n",
    "\n",
    "Your response should be a succinct paragraph, not exceeding 250 words, encapsulating the essence and primary themes of provided text.\n",
    "Avoid including any information outside the scope of the provided text.\n",
    "DO NOT mention anything regarding \"text\". DO NOT use phrases similar to \"The text also describes \" in summary. Start the summary directly.\n",
    "\n",
    "Text to be summarized is enclosed within ``` ``` markers:\n",
    "\n",
    "```{text}```\n",
    "\n",
    "SUMMARY:\n",
    "              \"\"\"\n",
    "\n",
    "refine_prompt = PromptTemplate(\n",
    "    template=refine_prompt_template, input_variables=[\"text\"]\n",
    ")"
   ]
  },
  {
   "cell_type": "code",
   "execution_count": 351,
   "metadata": {},
   "outputs": [],
   "source": [
    "refine_chain = load_summarize_chain(\n",
    "    llm,\n",
    "    chain_type=\"refine\",\n",
    "    question_prompt=question_prompt,\n",
    "    refine_prompt=refine_prompt,\n",
    "    return_intermediate_steps=True,\n",
    ")"
   ]
  },
  {
   "cell_type": "code",
   "execution_count": 352,
   "metadata": {},
   "outputs": [],
   "source": [
    "refine_outputs = refine_chain({\"input_documents\": data_sample[13:]})"
   ]
  },
  {
   "cell_type": "code",
   "execution_count": 353,
   "metadata": {},
   "outputs": [
    {
     "data": {
      "text/plain": [
       "'The narrator reflects on the resilience of humanity, acknowledging that people adapt to and accept their circumstances, even if they initially struggle. However, the narrator also questions whether this adaptation is a result of human nature or simply a societal construct. This introspective moment prompts the narrator to consider the possibility that mankind is not inherently wicked, and that the barriers and fears that exist are merely artificial constructs. This contemplation challenges the prevailing notion of human nature and suggests that perhaps humanity is not inherently flawed.'"
      ]
     },
     "execution_count": 353,
     "metadata": {},
     "output_type": "execute_result"
    }
   ],
   "source": [
    "refine_outputs[\"output_text\"]"
   ]
  },
  {
   "cell_type": "code",
   "execution_count": 181,
   "metadata": {},
   "outputs": [
    {
     "name": "stdout",
     "output_type": "stream",
     "text": [
      "String saved to refine_3.txt\n"
     ]
    }
   ],
   "source": [
    "# Specify the file path where you want to save the text file\n",
    "file_path = \"refine_4.txt\"\n",
    "\n",
    "# Open the file in write mode and save the string\n",
    "with open(file_path, \"w\") as file:\n",
    "    file.write(refine_outputs[\"output_text\"])\n",
    "\n",
    "print(f\"String saved to {file_path}\")"
   ]
  },
  {
   "cell_type": "markdown",
   "metadata": {},
   "source": [
    "Refine method for text summarization with LLMs can pull in more relevant context and may be less lossy than Map Reduce. However, it requires many more calls to the LLM than Stuffing, and these calls are not independent, meaning they cannot be parallelized. Additionally, there is potential dependency on the ordering of the documents. Latest documents they might become more relevant as this method suffers from recency bias.\n",
    "<br/><br/>\n",
    "In our case, it is focusing on themes and philosophies while not focuisng on events and characters"
   ]
  },
  {
   "cell_type": "markdown",
   "metadata": {},
   "source": [
    "### summary from intermediate steps"
   ]
  },
  {
   "cell_type": "code",
   "execution_count": 131,
   "metadata": {},
   "outputs": [],
   "source": [
    "from pathlib import Path\n",
    "final_refine_data = []\n",
    "for doc, out in zip(\n",
    "    refine_outputs[\"input_documents\"], refine_outputs[\"intermediate_steps\"]\n",
    "):\n",
    "    output = {}\n",
    "    output[\"file_name\"] = Path(doc.metadata[\"source\"]).stem\n",
    "    output[\"file_type\"] = Path(doc.metadata[\"source\"]).suffix\n",
    "    output[\"page_number\"] = doc.metadata[\"page\"]\n",
    "    output[\"chunks\"] = doc.page_content\n",
    "    output[\"concise_summary\"] = out\n",
    "    final_refine_data.append(output)"
   ]
  },
  {
   "cell_type": "code",
   "execution_count": 132,
   "metadata": {},
   "outputs": [
    {
     "data": {
      "text/html": [
       "<div>\n",
       "<style scoped>\n",
       "    .dataframe tbody tr th:only-of-type {\n",
       "        vertical-align: middle;\n",
       "    }\n",
       "\n",
       "    .dataframe tbody tr th {\n",
       "        vertical-align: top;\n",
       "    }\n",
       "\n",
       "    .dataframe thead th {\n",
       "        text-align: right;\n",
       "    }\n",
       "</style>\n",
       "<table border=\"1\" class=\"dataframe\">\n",
       "  <thead>\n",
       "    <tr style=\"text-align: right;\">\n",
       "      <th></th>\n",
       "      <th>file_name</th>\n",
       "      <th>file_type</th>\n",
       "      <th>page_number</th>\n",
       "      <th>chunks</th>\n",
       "      <th>concise_summary</th>\n",
       "    </tr>\n",
       "  </thead>\n",
       "  <tbody>\n",
       "    <tr>\n",
       "      <th>0</th>\n",
       "      <td>crime-and-punishment</td>\n",
       "      <td>.pdf</td>\n",
       "      <td>5</td>\n",
       "      <td>Part I</td>\n",
       "      <td>In this text, the main points revolve around t...</td>\n",
       "    </tr>\n",
       "    <tr>\n",
       "      <th>1</th>\n",
       "      <td>crime-and-punishment</td>\n",
       "      <td>.pdf</td>\n",
       "      <td>6</td>\n",
       "      <td>\u0018 Chapter I\\nOn an exceptionally hot evening e...</td>\n",
       "      <td>Summary:\\nIn Chapter I, a young man living in ...</td>\n",
       "    </tr>\n",
       "    <tr>\n",
       "      <th>2</th>\n",
       "      <td>crime-and-punishment</td>\n",
       "      <td>.pdf</td>\n",
       "      <td>7</td>\n",
       "      <td>stopped on the stairs, to be forced to listen ...</td>\n",
       "      <td>The text describes a man feeling overwhelmed b...</td>\n",
       "    </tr>\n",
       "    <tr>\n",
       "      <th>3</th>\n",
       "      <td>crime-and-punishment</td>\n",
       "      <td>.pdf</td>\n",
       "      <td>8</td>\n",
       "      <td>\u0018 An expression of the profoundest disgust gle...</td>\n",
       "      <td>The text describes a young man who is exceptio...</td>\n",
       "    </tr>\n",
       "    <tr>\n",
       "      <th>4</th>\n",
       "      <td>crime-and-punishment</td>\n",
       "      <td>.pdf</td>\n",
       "      <td>9</td>\n",
       "      <td>10heavy dray horse, suddenly shouted at him a...</td>\n",
       "      <td>The text describes a young man who is suddenly...</td>\n",
       "    </tr>\n",
       "  </tbody>\n",
       "</table>\n",
       "</div>"
      ],
      "text/plain": [
       "              file_name file_type  page_number  \\\n",
       "0  crime-and-punishment      .pdf            5   \n",
       "1  crime-and-punishment      .pdf            6   \n",
       "2  crime-and-punishment      .pdf            7   \n",
       "3  crime-and-punishment      .pdf            8   \n",
       "4  crime-and-punishment      .pdf            9   \n",
       "\n",
       "                                              chunks  \\\n",
       "0                                             Part I   \n",
       "1  \u0018 Chapter I\\nOn an exceptionally hot evening e...   \n",
       "2  stopped on the stairs, to be forced to listen ...   \n",
       "3  \u0018 An expression of the profoundest disgust gle...   \n",
       "4   10heavy dray horse, suddenly shouted at him a...   \n",
       "\n",
       "                                     concise_summary  \n",
       "0  In this text, the main points revolve around t...  \n",
       "1  Summary:\\nIn Chapter I, a young man living in ...  \n",
       "2  The text describes a man feeling overwhelmed b...  \n",
       "3  The text describes a young man who is exceptio...  \n",
       "4  The text describes a young man who is suddenly...  "
      ]
     },
     "execution_count": 132,
     "metadata": {},
     "output_type": "execute_result"
    }
   ],
   "source": [
    "pdf_refine_summary = pd.DataFrame.from_dict(final_refine_data)\n",
    "pdf_refine_summary = pdf_mp_summary.sort_values(\n",
    "    by=[\"file_name\", \"page_number\"]\n",
    ")  # sorting the datafram by filename and page_number\n",
    "pdf_refine_summary.reset_index(inplace=True, drop=True)\n",
    "pdf_refine_summary.head()"
   ]
  },
  {
   "cell_type": "code",
   "execution_count": 133,
   "metadata": {},
   "outputs": [
    {
     "name": "stdout",
     "output_type": "stream",
     "text": [
      "\n",
      "\n",
      " [Simple Summary]\n",
      "The text describes a young man who is exceptionally handsome but badly dressed, walking through the streets of Petersburg in a state of deep thought and physical weakness. He is so disgusted with his surroundings and his own circumstances that he does not care about his appearance, even though he is aware of his shabbiness. The area he is in is filled with a variety of people, so his appearance does not stand out. He also dislikes meeting acquaintances or former fellow students. The text conveys a sense of bitterness and contempt in the young man's heart.\n",
      "\n",
      "\n",
      " [Page number]\n",
      "8\n"
     ]
    }
   ],
   "source": [
    "index = 3\n",
    "print(\"\\n\\n [Simple Summary]\")\n",
    "print(pdf_refine_summary[\"concise_summary\"].iloc[index])\n",
    "print(\"\\n\\n [Page number]\")\n",
    "print(pdf_refine_summary[\"page_number\"].iloc[index])\n"
   ]
  },
  {
   "cell_type": "code",
   "execution_count": 134,
   "metadata": {},
   "outputs": [
    {
     "name": "stdout",
     "output_type": "stream",
     "text": [
      "Summary saved to refine_1.txt\n"
     ]
    }
   ],
   "source": [
    "# Save the summary to a text file\n",
    "output_file_path = \"refine_1.txt\"\n",
    "with open(output_file_path, \"w\") as file:\n",
    "    for index, row in pdf_refine_summary.iterrows():\n",
    "        file.write(f\"[Page Number]: {row['page_number']}\\n\")\n",
    "        file.write(f\"[Concise Summary]: {row['concise_summary']}\\n\\n\")\n",
    "\n",
    "print(f\"Summary saved to {output_file_path}\")"
   ]
  },
  {
   "cell_type": "code",
   "execution_count": 137,
   "metadata": {},
   "outputs": [],
   "source": [
    "summary_string_refine = \"\\n\\n\".join(pdf_refine_summary[\"concise_summary\"])"
   ]
  },
  {
   "cell_type": "code",
   "execution_count": 138,
   "metadata": {},
   "outputs": [],
   "source": [
    "refine_summary = llm.invoke(f\"\"\"As an expert summarizer, your task is to extract key information from the text of Crime and Punishment,\n",
    " and then apply the provided instructions.\n",
    "\n",
    "1. Prioritize the identification of the Part and Chapter provided within the text.\n",
    "2. Skim the document to understand its overall theme and intent. \n",
    "3. Extract the core essence and primary themes of the document, ensuring to represent the author's primary intent accurately.\n",
    "4. Condense any significant points, arguments, or character's thoughts into a clear and succinct overview.\n",
    "5. For any events mentioned in the text, provide the characters involved, date, time and place of the event ensuring that the essence of the event is captured succinctly.\n",
    "6. Present a compact summary that encapsulates:\n",
    "- Condensed significant points, arguments, or character's thoughts into a clear and succinct overview.\n",
    "- Any events that take place and their outcome.\n",
    "\n",
    "\n",
    "Your response should be a succinct paragraph, not exceeding 200 words, encapsulating the key information of the text.\n",
    " Avoid including any information outside the scope of the text's summary. ALWAYS give a summary of the given text.\n",
    "\n",
    "Text to be summarized is enclosed within ``` ``` markers:\n",
    "\n",
    "```{summary_string_refine}```\n",
    "\n",
    "CONCISE SUMMARY:\"\"\")"
   ]
  },
  {
   "cell_type": "code",
   "execution_count": 140,
   "metadata": {},
   "outputs": [
    {
     "name": "stdout",
     "output_type": "stream",
     "text": [
      "String saved to refine_2.txt\n"
     ]
    }
   ],
   "source": [
    "# Specify the file path where you want to save the text file\n",
    "file_path = \"refine_2.txt\"\n",
    "\n",
    "# Open the file in write mode and save the string\n",
    "with open(file_path, \"w\") as file:\n",
    "    file.write(refine_summary.content)\n",
    "\n",
    "print(f\"String saved to {file_path}\")"
   ]
  },
  {
   "cell_type": "markdown",
   "metadata": {},
   "source": [
    "Refine method for text summarization with LLMs can pull in more relevant context and may be less lossy than Map Reduce.\n",
    "- There is some potential dependency on the ordering of the documents. Latest documents they might become more relevant as this method suffers from recency bias.\n",
    "- Requires many more calls to the LLM than Stuffing, and these calls are not independent"
   ]
  },
  {
   "cell_type": "markdown",
   "metadata": {},
   "source": [
    "## Map Reduce Attempt 2 (without prompts)"
   ]
  },
  {
   "cell_type": "code",
   "execution_count": 158,
   "metadata": {},
   "outputs": [],
   "source": [
    "from langchain import OpenAI\n",
    "from langchain.chains.summarize import load_summarize_chain"
   ]
  },
  {
   "cell_type": "code",
   "execution_count": 159,
   "metadata": {},
   "outputs": [
    {
     "name": "stdout",
     "output_type": "stream",
     "text": [
      "Now we have 38 documents and the fourth one has 393 tokens\n"
     ]
    }
   ],
   "source": [
    "num_docs = len(data_sample)\n",
    "\n",
    "num_tokens_first_doc = llm.get_num_tokens(data_sample[3].page_content)\n",
    "\n",
    "print (f\"Now we have {num_docs} documents and the fourth one has {num_tokens_first_doc} tokens\")"
   ]
  },
  {
   "cell_type": "code",
   "execution_count": 160,
   "metadata": {},
   "outputs": [],
   "source": [
    "summary_chain = load_summarize_chain(llm=llm, chain_type='map_reduce')"
   ]
  },
  {
   "cell_type": "code",
   "execution_count": 155,
   "metadata": {},
   "outputs": [],
   "source": [
    "output = summary_chain.run(data_sample)"
   ]
  },
  {
   "cell_type": "code",
   "execution_count": 157,
   "metadata": {},
   "outputs": [
    {
     "name": "stdout",
     "output_type": "stream",
     "text": [
      "String saved to map_reduce_3.txt\n"
     ]
    }
   ],
   "source": [
    "mapr_summary_2 = output\n",
    "# Save the summary to a text file\n",
    "mapr_summary_2_file_path = \"map_reduce_3.txt\"\n",
    "\n",
    "# Open the file in write mode and save the string\n",
    "with open(mapr_summary_2_file_path, \"w\") as file:\n",
    "    file.write(mapr_summary_2)\n",
    "\n",
    "print(f\"String saved to {mapr_summary_2_file_path}\")"
   ]
  },
  {
   "cell_type": "markdown",
   "metadata": {},
   "source": [
    "# Generating Summary using Map Reduce"
   ]
  },
  {
   "cell_type": "markdown",
   "metadata": {},
   "source": [
    "## Subsections"
   ]
  },
  {
   "cell_type": "code",
   "execution_count": 364,
   "metadata": {},
   "outputs": [
    {
     "name": "stdout",
     "output_type": "stream",
     "text": [
      "6\n",
      "18\n",
      "62\n",
      "80\n",
      "132\n",
      "172\n",
      "192\n",
      "252\n",
      "298\n",
      "352\n",
      "396\n",
      "494\n",
      "530\n",
      "548\n",
      "568\n",
      "592\n",
      "612\n",
      "626\n",
      "646\n",
      "660\n",
      "676\n",
      "696\n",
      "728\n"
     ]
    }
   ],
   "source": [
    "for string in data_remove_authorsnote:\n",
    "    if \" Chapter \" in string.page_content:\n",
    "        print(string.metadata['page'])"
   ]
  },
  {
   "cell_type": "code",
   "execution_count": 376,
   "metadata": {},
   "outputs": [
    {
     "data": {
      "text/plain": [
       "Document(page_content='\\x18\\x18II\\nHe was ill a long time. But it was not the horrors of pris -\\non life, not the hard labour, the bad food, the shaven \\nhead, or the patched clothes that crushed him. What did he \\ncare for all those trials and hardships! he was even glad of \\nthe hard work. Physically exhausted, he could at least reck -\\non on a few hours of quiet sleep. And what was the food to \\nhim—the thin cabbage soup with beetles floating in it? In \\nthe past as a student he had often not had even that. His \\nclothes were warm and suited to his manner of life. He did \\nnot even feel the fetters. Was he ashamed of his shaven head \\nand parti-coloured coat? Before whom? Before Sonia? Sonia \\nwas afraid of him, how could he be ashamed before her? And \\nyet he was ashamed even before Sonia, whom he tortured \\nbecause of it with his contemptuous rough manner. But it \\nwas not his shaven head and his fetters he was ashamed of: \\nhis pride had been stung to the quick. It was wounded pride \\nthat made him ill. Oh, how happy he would have been if \\nhe could have blamed himself! He could have borne any -\\nthing then, even shame and disgrace. But he judged himself \\nseverely, and his exasperated conscience found no par -\\nticularly terrible fault in his past, except a simple blunder  \\nwhich might happen to anyone. He was ashamed just be -\\ncause he, Raskolnikov, had so hopelessly, stupidly come to \\ngrief through some decree of blind fate, and must humble ', metadata={'source': 'pdf\\\\crime-and-punishment.pdf', 'page': 755})"
      ]
     },
     "execution_count": 376,
     "metadata": {},
     "output_type": "execute_result"
    }
   ],
   "source": [
    "data_remove_authorsnote[750]"
   ]
  },
  {
   "cell_type": "code",
   "execution_count": null,
   "metadata": {},
   "outputs": [],
   "source": [
    "partlist = []"
   ]
  },
  {
   "cell_type": "code",
   "execution_count": 385,
   "metadata": {},
   "outputs": [],
   "source": [
    "list_chapters = []\n",
    "for string in data_remove_authorsnote:\n",
    "    if \"Chapter\" in string.page_content:\n",
    "        list_chapters.append(string.metadata['page'] -5)\n",
    "list_chapters.append(739)\n",
    "list_chapters.append(750)"
   ]
  },
  {
   "cell_type": "code",
   "execution_count": 394,
   "metadata": {},
   "outputs": [],
   "source": [
    "chapter_contents = []\n",
    "for i in range(len(list_chapters)):\n",
    "    start = list_chapters[i]\n",
    "    end = list_chapters[i + 1] - 1 if i + 1 < len(list_chapters) else None\n",
    "    if end is not None:\n",
    "        chapter_slice = data_remove_authorsnote[start:end+1]\n",
    "    else:\n",
    "        chapter_slice = data_remove_authorsnote[start:end]\n",
    "    \n",
    "    chapter_contents.append(chapter_slice)"
   ]
  },
  {
   "cell_type": "code",
   "execution_count": 408,
   "metadata": {},
   "outputs": [
    {
     "data": {
      "text/plain": [
       "[Document(page_content='\\x18\\x18 Chapter IV\\nHis mother’s letter had been a torture to him, but as re -\\ngards the chief fact in it, he had felt not one moment’s \\nhesitation, even whilst he was reading the letter. The es -\\nsential question was settled, and irrevocably settled, in his \\nmind: ‘Never such a marriage while I am alive and Mr. Lu -\\nzhin be damned!’ ‘The thing is perfectly clear,’ he muttered \\nto himself, with a malignant smile anticipating the triumph \\nof his decision. ‘No, mother, no, Dounia, you won’t deceive \\nme! and then they apologise for not asking my advice and \\nfor taking the decision without me! I dare say! They imagine \\nit is arranged now and can’t be broken off; but we will see \\nwhether it can or not! A magnificent excuse: ‘Pyotr Petro -\\nvitch is such a busy man that even his wedding has to be in \\npost-haste, almost by express.’ No, Dounia, I see it all and \\nI know what you want to say to me; and I know too what \\nyou were thinking about, when you walked up and down \\nall night, and what your prayers were like before the Holy \\nMother of Kazan who stands in mother’s bedroom. Bitter is \\nthe ascent to Golgotha…. Hm … so it is finally settled; you \\nhave determined to marry a sensible business man, Avdotya \\nRomanovna, one who has a fortune (has already  made his \\nfortune, that is so much more solid and impressive) a man \\nwho holds two government posts and who shares the ideas \\nof our most rising generation, as mother writes, and who ', metadata={'source': 'pdf\\\\crime-and-punishment.pdf', 'page': 62}),\n",
       " Document(page_content='\\x18seems  to be kind, as Dounia herself observes. That seems  \\nbeats everything! And that very Dounia for that very ‘ seems ’ \\nis marrying him! Splendid! splendid!\\n‘… But I should like to know why mother has written to \\nme about ‘our most rising generation’? Simply as a descrip -\\ntive touch, or with the idea of prepossessing me in favour \\nof Mr. Luzhin? Oh, the cunning of them! I should like to \\nknow one thing more: how far they were open with one an -\\nother that day and night and all this time since? Was it all \\nput into words  or did both understand that they had the \\nsame thing at heart and in their minds, so that there was \\nno need to speak of it aloud, and better not to speak of it. \\nMost likely it was partly like that, from mother’s letter it’s \\nevident: he struck her as rude a little  and mother in her sim -\\nplicity took her observations to Dounia. And she was sure \\nto be vexed and ‘answered her angrily.’ I should think so! \\nWho would not be angered when it was quite clear without \\nany naïve questions and when it was understood that it was \\nuseless to discuss it. And why does she write to me, ‘love \\nDounia, Rodya, and she loves you more than herself’? Has \\nshe a secret conscience-prick at sacrificing her daughter to \\nher son? ‘You are our one comfort, you are everything to \\nus.’ Oh, mother!’\\nHis bitterness grew more and more intense, and if he \\nhad happened to meet Mr. Luzhin at the moment, he might \\nhave murdered him.\\n‘Hm … yes, that’s true,’ he continued, pursuing the \\nwhirling ideas that chased each other in his brain, ‘it is \\ntrue that ‘it needs time and care to get to know a man,’ but ', metadata={'source': 'pdf\\\\crime-and-punishment.pdf', 'page': 63}),\n",
       " Document(page_content='\\x18\\x18 there is no mistake about Mr. Luzhin. The chief thing is \\nhe is ‘a man of business and seems  kind,’ that was some -\\nthing, wasn’t it, to send the bags and big box for them! A \\nkind man, no doubt after that! But his bride  and her moth -\\ner are to drive in a peasant’s cart covered with sacking (I \\nknow, I have been driven in it). No matter! It is only nine -\\nty versts and then they can ‘travel very comfortably, third \\nclass,’ for a thousand versts! Quite right, too. One must cut \\none’s coat according to one’s cloth, but what about you, Mr. \\nLuzhin? She is your bride…. And you must be aware that \\nher mother has to raise money on her pension for the jour -\\nney. To be sure it’s a matter of business, a partnership for \\nmutual benefit, with equal shares and expenses;—food and \\ndrink provided, but pay for your tobacco. The business man \\nhas got the better of them, too. The luggage will cost less \\nthan their fares and very likely go for nothing. How is it that \\nthey don’t both see all that, or is it that they don’t want to \\nsee? And they are pleased, pleased! And to think that this \\nis only the first blossoming, and that the real fruits are to \\ncome! But what really matters is not the stinginess, is not \\nthe meanness, but the tone  of the whole thing. For that will \\nbe the tone after marriage, it’s a foretaste of it. And mother \\ntoo, why should she be so lavish? What will she have by the \\ntime she gets to Petersburg? Three silver roubles or two ‘pa -\\nper ones’ as she says…. that old woman … hm. What does \\nshe expect to live upon in Petersburg afterwards? She has \\nher reasons already for guessing that she could not  live with \\nDounia after the marriage, even for the first few months. \\nThe good man has no doubt let slip something on that sub -', metadata={'source': 'pdf\\\\crime-and-punishment.pdf', 'page': 64}),\n",
       " Document(page_content='\\x18ject also, though mother would deny it: ‘I shall refuse,’ says \\nshe. On whom is she reckoning then? Is she counting on \\nwhat is left of her hundred and twenty roubles of pension \\nwhen Afanasy Ivanovitch’s debt is paid? She knits woollen \\nshawls and embroiders cuffs, ruining her old eyes. And all \\nher shawls don’t add more than twenty roubles a year to \\nher hundred and twenty, I know that. So she is building all \\nher hopes all the time on Mr. Luzhin’s generosity; ‘he will \\noffer it of himself, he will press it on me.’ You may wait a \\nlong time for that! That’s how it always is with these Schil -\\nleresque noble hearts; till the last moment every goose is \\na swan with them, till the last moment, they hope for the \\nbest and will see nothing wrong, and although they have an \\ninkling of the other side of the picture, yet they won’t face \\nthe truth till they are forced to; the very thought of it makes \\nthem shiver; they thrust the truth away with both hands, \\nuntil the man they deck out in false colours puts a fool’s cap \\non them with his own hands. I should like to know whether \\nMr. Luzhin has any orders of merit; I bet he has the Anna in \\nhis buttonhole and that he puts it on when he goes to dine \\nwith contractors or merchants. He will be sure to have it for \\nhis wedding, too! Enough of him, confound him!\\n‘Well, … mother I don’t wonder at, it’s like her, God bless \\nher, but how could Dounia? Dounia darling, as though I \\ndid not know you! You were nearly twenty when I saw you \\nlast: I understood you then. Mother writes that ‘Dounia \\ncan put up with a great deal.’ I know that very well. I knew \\nthat two years and a half ago, and for the last two and a \\nhalf years I have been thinking about it, thinking of just ', metadata={'source': 'pdf\\\\crime-and-punishment.pdf', 'page': 65}),\n",
       " Document(page_content='\\x18\\x18 that, that ‘Dounia can put up with a great deal.’ If she could \\nput up with Mr. Svidrigaïlov and all the rest of it, she cer -\\ntainly can put up with a great deal. And now mother and \\nshe have taken it into their heads that she can put up with \\nMr. Luzhin, who propounds the theory of the superiority \\nof wives raised from destitution and owing everything to \\ntheir husband’s bounty—who propounds it, too, almost at \\nthe first interview. Granted that he ‘let it slip,’ though he \\nis a sensible man, (yet maybe it was not a slip at all, but he \\nmeant to make himself clear as soon as possible) but Dou -\\nnia, Dounia? She understands the man, of course, but she \\nwill have to live with the man. Why! she’d live on black \\nbread and water, she would not sell her soul, she would not \\nbarter her moral freedom for comfort; she would not barter \\nit for all Schleswig-Holstein, much less Mr. Luzhin’s money. \\nNo, Dounia was not that sort when I knew her and … she is \\nstill the same, of course! Yes, there’s no denying, the Svid -\\nrigaïlovs are a bitter pill! It’s a bitter thing to spend one’s life \\na governess in the provinces for two hundred roubles, but I \\nknow she would rather be a nigger on a plantation or a Lett \\nwith a German master than degrade her soul, and her mor -\\nal dignity, by binding herself for ever to a man whom she \\ndoes not respect and with whom she has nothing in com -\\nmon—for her own advantage. And if Mr. Luzhin had been \\nof unalloyed gold, or one huge diamond, she would never \\nhave consented to become his legal concubine. Why is she \\nconsenting then? What’s the point of it? What’s the answer? \\nIt’s clear enough: for herself, for her comfort, to save her life \\nshe would not sell herself, but for someone else she is doing ', metadata={'source': 'pdf\\\\crime-and-punishment.pdf', 'page': 66}),\n",
       " Document(page_content='\\x18it! For one she loves, for one she adores, she will sell herself! \\nThat’s what it all amounts to; for her brother, for her mother, \\nshe will sell herself! She will sell everything! In such cases, \\n‘we overcome our moral feeling if necessary,’ freedom, peace, \\nconscience even, all, all are brought into the market. Let my \\nlife go, if only my dear ones may be happy! More than that, \\nwe become casuists, we learn to be Jesuitical and for a time \\nmaybe we can soothe ourselves, we can persuade ourselves \\nthat it is one’s duty for a good object. That’s just like us, it’s \\nas clear as daylight. It’s clear that Rodion Romanovitch Ras -\\nkolnikov is the central figure in the business, and no one \\nelse. Oh, yes, she can ensure his happiness, keep him in the \\nuniversity, make him a partner in the office, make his whole \\nfuture secure; perhaps he may even be a rich man later on, \\nprosperous, respected, and may even end his life a famous \\nman! But my mother? It’s all Rodya, precious Rodya, her \\nfirst born! For such a son who would not sacrifice such a \\ndaughter! Oh, loving, over-partial hearts! Why, for his sake \\nwe would not shrink even from Sonia’s fate. Sonia, Sonia \\nMarmeladov, the eternal victim so long as the world lasts. \\nHave you taken the measure of your sacrifice, both of you? \\nIs it right? Can you bear it? Is it any use? Is there sense in it? \\nAnd let me tell you, Dounia, Sonia’s life is no worse than life \\nwith Mr. Luzhin. ‘There can be no question of love,’ mother \\nwrites. And what if there can be no respect either, if on the \\ncontrary there is aversion, contempt, repulsion, what then? \\nSo you will have to ‘keep up your appearance,’ too. Is not \\nthat so? Do you understand what that smartness means? Do \\nyou understand that the Luzhin smartness is just the same ', metadata={'source': 'pdf\\\\crime-and-punishment.pdf', 'page': 67}),\n",
       " Document(page_content='\\x18\\x18 thing as Sonia’s and may be worse, viler, baser, because in \\nyour case, Dounia, it’s a bargain for luxuries, after all, but \\nwith Sonia it’s simply a question of starvation. It has to be \\npaid for, it has to be paid for, Dounia, this smartness. And \\nwhat if it’s more than you can bear afterwards, if you regret \\nit? The bitterness, the misery, the curses, the tears hidden \\nfrom all the world, for you are not a Marfa Petrovna. And \\nhow will your mother feel then? Even now she is uneasy, \\nshe is worried, but then, when she sees it all clearly? And I? \\nYes, indeed, what have you taken me for? I won’t have your \\nsacrifice, Dounia, I won’t have it, mother! It shall not be, so \\nlong as I am alive, it shall not, it shall not! I won’t accept it!’\\nHe suddenly paused in his reflection and stood still.\\n‘It shall not be? But what are you going to do to prevent \\nit? You’ll forbid it? And what right have you? What can you \\npromise them on your side to give you such a right? Your \\nwhole life, your whole future, you will devote to them when \\nyou have finished your studies and obtained a post ? Yes, we \\nhave heard all that before, and that’s all words  but now? Now \\nsomething must be done, now, do you understand that? \\nAnd what are you doing now? You are living upon them. \\nThey borrow on their hundred roubles pension. They bor -\\nrow from the Svidrigaïlovs. How are you going to save them \\nfrom Svidrigaïlovs, from Afanasy Ivanovitch Vahrushin, \\noh, future millionaire Zeus who would arrange their lives \\nfor them? In another ten years? In another ten years, moth -\\ner will be blind with knitting shawls, maybe with weeping \\ntoo. She will be worn to a shadow with fasting; and my sis -\\nter? Imagine for a moment what may have become of your ', metadata={'source': 'pdf\\\\crime-and-punishment.pdf', 'page': 68}),\n",
       " Document(page_content='0sister in ten years? What may happen to her during those \\nten years? Can you fancy?’\\nSo he tortured himself, fretting himself with such ques -\\ntions, and finding a kind of enjoyment in it. And yet all \\nthese questions were not new ones suddenly confronting \\nhim, they were old familiar aches. It was long since they had \\nfirst begun to grip and rend his heart. Long, long ago his \\npresent anguish had its first beginnings; it had waxed and \\ngathered strength, it had matured and concentrated, un -\\ntil it had taken the form of a fearful, frenzied and fantastic \\nquestion, which tortured his heart and mind, clamouring \\ninsistently for an answer. Now his mother’s letter had burst \\non him like a thunderclap. It was clear that he must not \\nnow suffer passively, worrying himself over unsolved ques -\\ntions, but that he must do something, do it at once, and do it \\nquickly. Anyway he must decide on something, or else …\\n‘Or throw up life altogether!’ he cried suddenly, in a fren -\\nzy—‘accept one’s lot humbly as it is, once for all and stifle \\neverything in oneself, giving up all claim to activity, life \\nand love!’\\n‘Do you understand, sir, do you understand what it means \\nwhen you have absolutely nowhere to turn?’ Marmeladov’s \\nquestion came suddenly into his mind, ‘for every man must \\nhave somewhere to turn….’\\nHe gave a sudden start; another thought, that he had had \\nyesterday, slipped back into his mind. But he did not start at \\nthe thought recurring to him, for he knew, he had felt before -\\nhand  that it must come back, he was expecting it; besides it \\nwas not only yesterday’s thought. The difference was that a ', metadata={'source': 'pdf\\\\crime-and-punishment.pdf', 'page': 69}),\n",
       " Document(page_content='\\x181 month ago, yesterday even, the thought was a mere dream: \\nbut now … now it appeared not a dream at all, it had taken a \\nnew menacing and quite unfamiliar shape, and he suddenly \\nbecame aware of this himself…. He felt a hammering in his \\nhead, and there was a darkness before his eyes.\\nHe looked round hurriedly, he was searching for some -\\nthing. He wanted to sit down and was looking for a seat; he \\nwas walking along the K—— Boulevard. There was a seat \\nabout a hundred paces in front of him. He walked towards \\nit as fast he could; but on the way he met with a little ad -\\nventure which absorbed all his attention. Looking for the \\nseat, he had noticed a woman walking some twenty paces \\nin front of him, but at first he took no more notice of her \\nthan of other objects that crossed his path. It had happened \\nto him many times going home not to notice the road by \\nwhich he was going, and he was accustomed to walk like \\nthat. But there was at first sight something so strange about \\nthe woman in front of him, that gradually his attention was \\nriveted upon her, at first reluctantly and, as it were, resent -\\nfully, and then more and more intently. He felt a sudden \\ndesire to find out what it was that was so strange about the \\nwoman. In the first place, she appeared to be a girl quite \\nyoung, and she was walking in the great heat bareheaded \\nand with no parasol or gloves, waving her arms about in \\nan absurd way. She had on a dress of some light silky ma -\\nterial, but put on strangely awry, not properly hooked up, \\nand torn open at the top of the skirt, close to the waist: a \\ngreat piece was rent and hanging loose. A little kerchief \\nwas flung about her bare throat, but lay slanting on one ', metadata={'source': 'pdf\\\\crime-and-punishment.pdf', 'page': 70}),\n",
       " Document(page_content='\\x18side. The girl was walking unsteadily, too, stumbling and \\nstaggering from side to side. She drew Raskolnikov’s whole \\nattention at last. He overtook the girl at the seat, but, on \\nreaching it, she dropped down on it, in the corner; she let \\nher head sink on the back of the seat and closed her eyes, ap -\\nparently in extreme exhaustion. Looking at her closely, he \\nsaw at once that she was completely drunk. It was a strange \\nand shocking sight. He could hardly believe that he was not \\nmistaken. He saw before him the face of a quite young, fair-\\nhaired girl—sixteen, perhaps not more than fifteen, years \\nold, pretty little face, but flushed and heavy looking and, as \\nit were, swollen. The girl seemed hardly to know what she \\nwas doing; she crossed one leg over the other, lifting it inde -\\ncorously, and showed every sign of being unconscious that \\nshe was in the street.\\nRaskolnikov did not sit down, but he felt unwilling to \\nleave her, and stood facing her in perplexity. This boulevard \\nwas never much frequented; and now, at two o’clock, in the \\nstifling heat, it was quite deserted. And yet on the further \\nside of the boulevard, about fifteen paces away, a gentleman \\nwas standing on the edge of the pavement. He, too, would \\napparently have liked to approach the girl with some object \\nof his own. He, too, had probably seen her in the distance \\nand had followed her, but found Raskolnikov in his way. He \\nlooked angrily at him, though he tried to escape his notice, \\nand stood impatiently biding his time, till the unwelcome \\nman in rags should have moved away. His intentions were \\nunmistakable. The gentleman was a plump, thickly-set man, \\nabout thirty, fashionably dressed, with a high colour, red ', metadata={'source': 'pdf\\\\crime-and-punishment.pdf', 'page': 71}),\n",
       " Document(page_content='\\x18\\x18 lips and moustaches. Raskolnikov felt furious; he had a sud -\\nden longing to insult this fat dandy in some way. He left the \\ngirl for a moment and walked towards the gentleman.\\n‘Hey! You Svidrigaïlov! What do you want here?’ he \\nshouted, clenching his fists and laughing, spluttering with \\nrage.\\n‘What do you mean?’ the gentleman asked sternly, scowl -\\ning in haughty astonishment.\\n‘Get away, that’s what I mean.’\\n‘How dare you, you low fellow!’\\nHe raised his cane. Raskolnikov rushed at him with \\nhis fists, without reflecting that the stout gentleman was a \\nmatch for two men like himself. But at that instant some -\\none seized him from behind, and a police constable stood \\nbetween them.\\n‘That’s enough, gentlemen, no fighting, please, in a public \\nplace. What do you want? Who are you?’ he asked Raskol -\\nnikov sternly, noticing his rags.\\nRaskolnikov looked at him intently. He had a straight-\\nforward, sensible, soldierly face, with grey moustaches and \\nwhiskers.\\n‘You are just the man I want,’ Raskolnikov cried, catch -\\ning at his arm. ‘I am a student, Raskolnikov…. You may as \\nwell know that too,’ he added, addressing the gentleman, \\n‘come along, I have something to show you.’\\nAnd taking the policeman by the hand he drew him to -\\nwards the seat.\\n‘Look here, hopelessly drunk, and she has just come \\ndown the boulevard. There is no telling who and what she ', metadata={'source': 'pdf\\\\crime-and-punishment.pdf', 'page': 72}),\n",
       " Document(page_content='\\x18is, she does not look like a professional. It’s more likely \\nshe has been given drink and deceived somewhere … for \\nthe first time … you understand? and they’ve put her out \\ninto the street like that. Look at the way her dress is torn, \\nand the way it has been put on: she has been dressed by \\nsomebody, she has not dressed herself, and dressed by un -\\npractised hands, by a man’s hands; that’s evident. And now \\nlook there: I don’t know that dandy with whom I was going \\nto fight, I see him for the first time, but he, too, has seen her \\non the road, just now, drunk, not knowing what she is do -\\ning, and now he is very eager to get hold of her, to get her \\naway somewhere while she is in this state … that’s certain, \\nbelieve me, I am not wrong. I saw him myself watching her \\nand following her, but I prevented him, and he is just wait -\\ning for me to go away. Now he has walked away a little, and \\nis standing still, pretending to make a cigarette…. Think \\nhow can we keep her out of his hands, and how are we to \\nget her home?’\\nThe policeman saw it all in a flash. The stout gentleman \\nwas easy to understand, he turned to consider the girl. The \\npoliceman bent over to examine her more closely, and his \\nface worked with genuine compassion.\\n‘Ah, what a pity!’ he said, shaking his head—‘why, she \\nis quite a child! She has been deceived, you can see that at \\nonce. Listen, lady,’ he began addressing her, ‘where do you \\nlive?’ The girl opened her weary and sleepy-looking eyes, \\ngazed blankly at the speaker and waved her hand.\\n‘Here,’ said Raskolnikov feeling in his pocket and finding \\ntwenty copecks, ‘here, call a cab and tell him to drive her to ', metadata={'source': 'pdf\\\\crime-and-punishment.pdf', 'page': 73}),\n",
       " Document(page_content='\\x18\\x18 her address. The only thing is to find out her address!’\\n‘Missy, missy!’ the policeman began again, taking the \\nmoney. ‘I’ll fetch you a cab and take you home myself. \\nWhere shall I take you, eh? Where do you live?’\\n‘Go away! They won’t let me alone,’ the girl muttered, and \\nonce more waved her hand.\\n‘Ach, ach, how shocking! It’s shameful, missy, it’s a \\nshame!’ He shook his head again, shocked, sympathetic and \\nindignant.\\n‘It’s a difficult job,’ the policeman said to Raskolnikov, \\nand as he did so, he looked him up and down in a rapid \\nglance. He, too, must have seemed a strange figure to him: \\ndressed in rags and handing him money!\\n‘Did you meet her far from here?’ he asked him.\\n‘I tell you she was walking in front of me, staggering, just \\nhere, in the boulevard. She only just reached the seat and \\nsank down on it.’\\n‘Ah, the shameful things that are done in the world now -\\nadays, God have mercy on us! An innocent creature like \\nthat, drunk already! She has been deceived, that’s a sure \\nthing. See how her dress has been torn too…. Ah, the vice \\none sees nowadays! And as likely as not she belongs to gen -\\ntlefolk too, poor ones maybe…. There are many like that \\nnowadays. She looks refined, too, as though she were a lady,’ \\nand he bent over her once more.\\nPerhaps he had daughters growing up like that, ‘look -\\ning like ladies and refined’ with pretensions to gentility and \\nsmartness….\\n‘The chief thing is,’ Raskolnikov persisted, ‘to keep her ', metadata={'source': 'pdf\\\\crime-and-punishment.pdf', 'page': 74}),\n",
       " Document(page_content='\\x18out of this scoundrel’s hands! Why should he outrage her! \\nIt’s as clear as day what he is after; ah, the brute, he is not \\nmoving off!’\\nRaskolnikov spoke aloud and pointed to him. The gen -\\ntleman heard him, and seemed about to fly into a rage again, \\nbut thought better of it, and confined himself to a contemp -\\ntuous look. He then walked slowly another ten paces away \\nand again halted.\\n‘Keep her out of his hands we can,’ said the constable \\nthoughtfully, ‘if only she’d tell us where to take her, but as it \\nis…. Missy, hey, missy!’ he bent over her once more.\\nShe opened her eyes fully all of a sudden, looked at him \\nintently, as though realising something, got up from the \\nseat and walked away in the direction from which she had \\ncome. ‘Oh shameful wretches, they won’t let me alone!’ she \\nsaid, waving her hand again. She walked quickly, though \\nstaggering as before. The dandy followed her, but along an -\\nother avenue, keeping his eye on her.\\n‘Don’t be anxious, I won’t let him have her,’ the police -\\nman said resolutely, and he set off after them.\\n‘Ah, the vice one sees nowadays!’ he repeated aloud, sigh -\\ning.\\nAt that moment something seemed to sting Raskolnikov; \\nin an instant a complete revulsion of feeling came over \\nhim.\\n‘Hey, here!’ he shouted after the policeman.\\nThe latter turned round.\\n‘Let them be! What is it to do with you? Let her go! Let \\nhim amuse himself.’ He pointed at the dandy, ‘What is it to ', metadata={'source': 'pdf\\\\crime-and-punishment.pdf', 'page': 75}),\n",
       " Document(page_content='\\x18\\x18 do with you?’\\nThe policeman was bewildered, and stared at him open-\\neyed. Raskolnikov laughed.\\n‘Well!’ ejaculated the policeman, with a gesture of \\ncontempt, and he walked after the dandy and the girl, prob -\\nably taking Raskolnikov for a madman or something even \\nworse.\\n‘He has carried off my twenty copecks,’ Raskolnikov \\nmurmured angrily when he was left alone. ‘Well, let him \\ntake as much from the other fellow to allow him to have the \\ngirl and so let it end. And why did I want to interfere? Is it \\nfor me to help? Have I any right to help? Let them devour \\neach other alive—what is to me? How did I dare to give him \\ntwenty copecks? Were they mine?’\\nIn spite of those strange words he felt very wretched. He \\nsat down on the deserted seat. His thoughts strayed aim -\\nlessly…. He found it hard to fix his mind on anything at that \\nmoment. He longed to forget himself altogether, to forget \\neverything, and then to wake up and begin life anew….\\n‘Poor girl!’ he said, looking at the empty corner where \\nshe had sat— ‘She will come to herself and weep, and then \\nher mother will find out…. She will give her a beating, a \\nhorrible, shameful beating and then maybe, turn her out of \\ndoors…. And even if she does not, the Darya Frantsovnas \\nwill get wind of it, and the girl will soon be slipping out on \\nthe sly here and there. Then there will be the hospital di -\\nrectly (that’s always the luck of those girls with respectable \\nmothers, who go wrong on the sly) and then … again the \\nhospital … drink … the taverns … and more hospital, in ', metadata={'source': 'pdf\\\\crime-and-punishment.pdf', 'page': 76}),\n",
       " Document(page_content='\\x18two or three years—a wreck, and her life over at eighteen or \\nnineteen…. Have not I seen cases like that? And how have \\nthey been brought to it? Why, they’ve all come to it like that. \\nUgh! But what does it matter? That’s as it should be, they \\ntell us. A certain percentage, they tell us, must every year go \\n… that way … to the devil, I suppose, so that the rest may \\nremain chaste, and not be interfered with. A percentage! \\nWhat splendid words they have; they are so scientific, so \\nconsolatory…. Once you’ve said ‘percentage’ there’s nothing \\nmore to worry about. If we had any other word … maybe we \\nmight feel more uneasy…. But what if Dounia were one of \\nthe percentage! Of another one if not that one?\\n‘But where am I going?’ he thought suddenly. ‘Strange, \\nI came out for something. As soon as I had read the letter \\nI came out…. I was going to Vassilyevsky Ostrov, to Ra -\\nzumihin. That’s what it was … now I remember. What for, \\nthough? And what put the idea of going to Razumihin into \\nmy head just now? That’s curious.’\\nHe wondered at himself. Razumihin was one of his old \\ncomrades at the university. It was remarkable that Raskol -\\nnikov had hardly any friends at the university; he kept aloof \\nfrom everyone, went to see no one, and did not welcome \\nanyone who came to see him, and indeed everyone soon \\ngave him up. He took no part in the students’ gatherings, \\namusements or conversations. He worked with great inten -\\nsity without sparing himself, and he was respected for this, \\nbut no one liked him. He was very poor, and there was a \\nsort of haughty pride and reserve about him, as though he \\nwere keeping something to himself. He seemed to some of ', metadata={'source': 'pdf\\\\crime-and-punishment.pdf', 'page': 77}),\n",
       " Document(page_content='\\x18\\x18 his comrades to look down upon them all as children, as \\nthough he were superior in development, knowledge and \\nconvictions, as though their beliefs and interests were be -\\nneath him.\\nWith Razumihin he had got on, or, at least, he was more \\nunreserved and communicative with him. Indeed it was \\nimpossible to be on any other terms with Razumihin. He \\nwas an exceptionally good-humoured and candid youth, \\ngood-natured to the point of simplicity, though both depth \\nand dignity lay concealed under that simplicity. The better \\nof his comrades understood this, and all were fond of him. \\nHe was extremely intelligent, though he was certainly rath -\\ner a simpleton at times. He was of striking appearance—tall, \\nthin, blackhaired and always badly shaved. He was some -\\ntimes uproarious and was reputed to be of great physical \\nstrength. One night, when out in a festive company, he had \\nwith one blow laid a gigantic policeman on his back. There \\nwas no limit to his drinking powers, but he could abstain \\nfrom drink altogether; he sometimes went too far in his \\npranks; but he could do without pranks altogether. Another \\nthing striking about Razumihin, no failure distressed him, \\nand it seemed as though no unfavourable circumstances \\ncould crush him. He could lodge anywhere, and bear the \\nextremes of cold and hunger. He was very poor, and kept \\nhimself entirely on what he could earn by work of one sort \\nor another. He knew of no end of resources by which to \\nearn money. He spent one whole winter without lighting \\nhis stove, and used to declare that he liked it better, because \\none slept more soundly in the cold. For the present he, too, ', metadata={'source': 'pdf\\\\crime-and-punishment.pdf', 'page': 78}),\n",
       " Document(page_content='0had been obliged to give up the university, but it was only \\nfor a time, and he was working with all his might to save \\nenough to return to his studies again. Raskolnikov had not \\nbeen to see him for the last four months, and Razumihin \\ndid not even know his address. About two months before, \\nthey had met in the street, but Raskolnikov had turned \\naway and even crossed to the other side that he might not be \\nobserved. And though Razumihin noticed him, he passed \\nhim by, as he did not want to annoy him.', metadata={'source': 'pdf\\\\crime-and-punishment.pdf', 'page': 79})]"
      ]
     },
     "execution_count": 408,
     "metadata": {},
     "output_type": "execute_result"
    }
   ],
   "source": [
    "chapter_contents[3]"
   ]
  },
  {
   "cell_type": "markdown",
   "metadata": {},
   "source": [
    "## Execute Map Reduce"
   ]
  },
  {
   "cell_type": "code",
   "execution_count": 419,
   "metadata": {},
   "outputs": [],
   "source": [
    "map_prompt_template = \"\"\"\n",
    "                      Write a concise summary from the text. Pay close attention to the following: \n",
    "                       - Trace any events that took place, \n",
    "                       - thoughts of the characters mentioned in text,\n",
    "                       - while retaining essence of the text\n",
    "                       ```\n",
    "                      {text}\n",
    "                      ```\n",
    "                      SUMMARY: \n",
    "                      \"\"\"\n",
    "map_prompt = PromptTemplate(template=map_prompt_template, input_variables=[\"text\"])\n",
    "\n",
    "combine_prompt_template = \"\"\"As a professional summarizer, create a clear and reader-friendly summary of the provided text, extracted from a document.\n",
    "Carefully examine the text to create a clear and reader-friendly summary of the provided text,\n",
    " while adhering to these guidelines:\n",
    " \n",
    "1. Skim the text to understand its overall theme and intent. \n",
    "2. Analyze the core essence and primary themes of the story, ensuring to represent the author's primary intent accurately.\n",
    "3. Condense any significant events, arguments, or character's thoughts into a clear and succinct overview.\n",
    "4. For any events mentioned in the text, provide the characters, involved, date, time and place of the event ensuring that the essence of the event is captured succinctly.\n",
    "5. Present a clear and concise summary of the text while maintaining clarity and conciseness that encapsulates:\n",
    "    - Condensed order of events and character's thoughts into a clear and succinct overview.\n",
    "    - For any events that take place, briefly trace them in their in the order they are presented and their outcome.\n",
    "    - For any characters introduced, mention their relationships within a few words.\n",
    "    - Mention characters by their name.\n",
    "    - Rely strictly on the provided text, without including external information.\n",
    "    - Ensure the generated summary is coherent, accurate, and reader-friendly. \n",
    "    - DO NOT use phrases similar to \"The text also describes \", \"The text discusses \" in summary. \n",
    "6. DO NOT mention anything regarding \"text\". Start the summary directly.\n",
    "\n",
    "\n",
    "Your response should be a succinct paragraph, NOT EXCEEDING 250 words, encapsulating the essence and primary themes of provided text.\n",
    "Avoid including any information outside the scope of the provided text.\n",
    "DO NOT mention anything regarding \"text\". DO NOT use phrases similar to \"The text also describes \" in summary. Start the summary directly.\n",
    "Your response should be WITHIN 250 WORDS. DO NOT ANSWER IN MORE THAN 250 WORDS.\n",
    "\n",
    "Text to be summarized is enclosed within ``` ``` markers:\n",
    "\n",
    "```{text}```\n",
    "\n",
    "SUMMARY:\"\"\"\n",
    "\n",
    "combine_prompt = PromptTemplate(\n",
    "    template=combine_prompt_template, input_variables=[\"text\"]\n",
    ")"
   ]
  },
  {
   "cell_type": "code",
   "execution_count": 420,
   "metadata": {},
   "outputs": [],
   "source": [
    "map_reduce_chain = load_summarize_chain(\n",
    "    llm,\n",
    "    chain_type=\"map_reduce\",\n",
    "    map_prompt=map_prompt,\n",
    "    combine_prompt=combine_prompt,\n",
    "    return_intermediate_steps=True,\n",
    ")"
   ]
  },
  {
   "cell_type": "code",
   "execution_count": 424,
   "metadata": {},
   "outputs": [],
   "source": [
    "chapterSummaries = []\n",
    "for i in range(len(chapter_contents)):\n",
    "    map_reduce_outputs = map_reduce_chain({\"input_documents\":  chapter_contents[i]})\n",
    "    # context = map_reduce_outputs[\"output_text\"]\n",
    "    chapterSummaries.append(map_reduce_outputs[\"output_text\"])"
   ]
  },
  {
   "cell_type": "code",
   "execution_count": 425,
   "metadata": {},
   "outputs": [
    {
     "name": "stdout",
     "output_type": "stream",
     "text": [
      "Strings saved to summary4chapters_mapr_5.txt\n"
     ]
    }
   ],
   "source": [
    "\n",
    "output_file_path = \"summary4chapters_mapr_5.txt\"\n",
    "\n",
    "# Open the file in write mode and save the strings with two blank lines between them\n",
    "with open(output_file_path, \"w\") as file:\n",
    "    for string in chapterSummaries:\n",
    "        file.write(string + \"\\n\\n\")\n",
    "\n",
    "print(f\"Strings saved to {output_file_path}\")\n"
   ]
  },
  {
   "cell_type": "markdown",
   "metadata": {},
   "source": [
    "# Approach:  Best Representation Vectors"
   ]
  },
  {
   "cell_type": "code",
   "execution_count": 41,
   "metadata": {},
   "outputs": [],
   "source": [
    "text = \"\"\n",
    "for page in data_sample:\n",
    "     text += page.page_content"
   ]
  },
  {
   "cell_type": "code",
   "execution_count": null,
   "metadata": {},
   "outputs": [],
   "source": [
    "num_tokens = llm.get_num_tokens(text)"
   ]
  },
  {
   "cell_type": "code",
   "execution_count": 43,
   "metadata": {},
   "outputs": [
    {
     "name": "stdout",
     "output_type": "stream",
     "text": [
      "These two chapters have 14999 tokens in it\n"
     ]
    }
   ],
   "source": [
    "print (f\"These two chapters have {num_tokens} tokens in it\")"
   ]
  },
  {
   "cell_type": "code",
   "execution_count": 48,
   "metadata": {},
   "outputs": [],
   "source": [
    "# Loaders\n",
    "from langchain.schema import Document\n",
    "\n",
    "# Splitters\n",
    "from langchain.text_splitter import RecursiveCharacterTextSplitter\n",
    "\n",
    "# Model\n",
    "from langchain.chat_models import ChatOpenAI\n",
    "\n",
    "# Embedding Support\n",
    "from langchain.vectorstores import FAISS\n",
    "from langchain.embeddings import OpenAIEmbeddings\n",
    "\n",
    "# Summarizer we'll use for Map Reduce\n",
    "from langchain.chains.summarize import load_summarize_chain\n",
    "\n",
    "# Data Science\n",
    "import numpy as np\n",
    "from sklearn.cluster import KMeans"
   ]
  },
  {
   "cell_type": "code",
   "execution_count": 61,
   "metadata": {},
   "outputs": [],
   "source": [
    "text_splitter = RecursiveCharacterTextSplitter(separators=[\"\\n\\n\", \"\\n\", \"\\t\"], chunk_size=500, chunk_overlap=20)\n",
    "\n",
    "docs = text_splitter.create_documents([text])"
   ]
  },
  {
   "cell_type": "code",
   "execution_count": 62,
   "metadata": {},
   "outputs": [
    {
     "name": "stdout",
     "output_type": "stream",
     "text": [
      "Now 2 chapters split up into 126 documents\n"
     ]
    }
   ],
   "source": [
    "num_documents = len(docs)\n",
    "\n",
    "print (f\"Now 2 chapters split up into {num_documents} documents\")"
   ]
  },
  {
   "cell_type": "code",
   "execution_count": null,
   "metadata": {},
   "outputs": [],
   "source": [
    "embeddings = OpenAIEmbeddings(openai_api_key=os.environ.get(\"OPENAI_API_KEY\"))\n",
    "\n",
    "vectors = embeddings.embed_documents([x.page_content for x in docs])"
   ]
  },
  {
   "cell_type": "code",
   "execution_count": null,
   "metadata": {},
   "outputs": [],
   "source": []
  },
  {
   "cell_type": "code",
   "execution_count": null,
   "metadata": {},
   "outputs": [],
   "source": []
  }
 ],
 "metadata": {
  "kernelspec": {
   "display_name": "Python 3",
   "language": "python",
   "name": "python3"
  },
  "language_info": {
   "codemirror_mode": {
    "name": "ipython",
    "version": 3
   },
   "file_extension": ".py",
   "mimetype": "text/x-python",
   "name": "python",
   "nbconvert_exporter": "python",
   "pygments_lexer": "ipython3",
   "version": "3.11.1"
  }
 },
 "nbformat": 4,
 "nbformat_minor": 2
}
