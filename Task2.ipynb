{
 "cells": [
  {
   "cell_type": "code",
   "execution_count": 23,
   "metadata": {},
   "outputs": [],
   "source": [
    "from langchain.prompts import PromptTemplate# type: ignore"
   ]
  },
  {
   "cell_type": "markdown",
   "metadata": {},
   "source": [
    "# Experiment with prompt structure"
   ]
  },
  {
   "cell_type": "code",
   "execution_count": 11,
   "metadata": {},
   "outputs": [
    {
     "name": "stdout",
     "output_type": "stream",
     "text": [
      "[['John Doe', 'Science', '10', 'Mathematics;Physics;Chemistry', 'Visual;Auditory;Kinesthetic', 'Score high in exams;Understand concepts deeply', 'Time management;Complexity of subjects', 'Chess Club;Debate Team'], ['Jane Smith', 'Arts', '11', 'English Literature;History;Art and Design', 'Visual;Verbal;Interpersonal', 'Improve writing skills;Learn about historical events', 'Public speaking;Meeting deadlines', 'Basketball Team;Drama Club'], ['Michael Johnson', 'Commerce', '12', 'Accounting;Business Studies;Economics', 'Logical;Social;Kinesthetic', 'Achieve financial literacy;Gain business acumen', 'Managing finances;Understanding market trends', 'Entrepreneurship Club;Financial Literacy Workshop'], ['Maria Garcia', 'STEM', '9', 'Biology;Computer Science;Robotics', 'Logical;Visual;Hands-on', 'Explore STEM careers;Build technical skills', 'Time management;Complexity of coding tasks', 'Science Club;Robotics Competition'], ['Ahmed Khan', 'Humanities', '10', 'Sociology;Psychology;Political Science', 'Verbal;Interpersonal;Logical', 'Understand human behavior;Analyze societal issues', 'Research skills;Critical thinking', 'Debate Team;Social Activism Club']]\n"
     ]
    }
   ],
   "source": [
    "import csv\n",
    "\n",
    "# Specify the path to your CSV file\n",
    "csv_file_path = \"student/Student Data Rows - Sheet1.csv\"\n",
    "\n",
    "# Initialize an empty list to store the data\n",
    "data = []\n",
    "\n",
    "# Open the CSV file and read its contents\n",
    "with open(csv_file_path, \"r\") as file:\n",
    "    reader = csv.reader(file)\n",
    "    # Skip the header row if it exists\n",
    "    next(reader, None)\n",
    "    # Iterate over each row in the CSV file\n",
    "    for row in reader:\n",
    "        data.append(row)\n",
    "\n",
    "# Print the loaded data (optional)\n",
    "print(data)\n"
   ]
  },
  {
   "cell_type": "code",
   "execution_count": 8,
   "metadata": {},
   "outputs": [
    {
     "data": {
      "text/plain": [
       "['John Doe',\n",
       " 'Science',\n",
       " '10',\n",
       " 'Mathematics;Physics;Chemistry',\n",
       " 'Visual;Auditory;Kinesthetic',\n",
       " 'Score high in exams;Understand concepts deeply',\n",
       " 'Time management;Complexity of subjects',\n",
       " 'Chess Club;Debate Team']"
      ]
     },
     "execution_count": 8,
     "metadata": {},
     "output_type": "execute_result"
    }
   ],
   "source": [
    "data[0]"
   ]
  },
  {
   "cell_type": "code",
   "execution_count": 14,
   "metadata": {},
   "outputs": [],
   "source": [
    "i = 2\n",
    "\n",
    "Name  = data[i][0]\n",
    "Grade = data[i][1]\n",
    "Field =data[i][2]\n",
    "Subjects=data[i][3]\n",
    "Learning_Styles=data[i][4]\n",
    "Extracurricular=data[i][5]\n",
    "Objectives=data[i][6]\n",
    "Challenges=data[i][7]"
   ]
  },
  {
   "cell_type": "code",
   "execution_count": 21,
   "metadata": {},
   "outputs": [],
   "source": [
    "prompt = f\"\"\"\"\n",
    "Given the following information about a student, create a detailed and personalized study plan that addresses their academic and personal needs:\n",
    "\n",
    "1. Student Profile:\n",
    "   - Name: {Name}\n",
    "   - Grade Level: {Grade}\n",
    "   - Field of Study: {Field}\n",
    "   - Academic Subjects: {Subjects}\n",
    "  \n",
    "\n",
    "2. Preferred Learning Styles:\n",
    "   {Learning_Styles}\n",
    "\n",
    "3. Extracurricular Activities:\n",
    "   {Extracurricular}\n",
    "\n",
    "4. Personal Objectives:\n",
    "   {Objectives}\n",
    "\n",
    "5. Challenges\n",
    "   {Challenges}\n",
    "```\n",
    "\n",
    "Based on the above information, generate a comprehensive study plan by adhering to these instructions:\n",
    "\n",
    "1- Weekly Study Schedule: \n",
    "- Analyze student's Academic Subjects, and Field of Study.\n",
    "- Develop a timetable that balances study time across subjects with the student’s \n",
    "extracurricular activities\n",
    "- Ensure adequate time is allocated to each subject, especially those needing improvement.\n",
    "\n",
    "2- Learning Strategies:\n",
    "- Examine student's Preferred Learning Styles and Challenges.\n",
    "- Explore and Recommend a specific study method for the student and resources tailored to the \n",
    "student’s learning styles and subjects. \n",
    "- Within the recommended study method, include suggestions for overcoming their specified Challenges.\n",
    "\n",
    "3- Short-term and Long-term Goals: \n",
    "- Identify Student's Personal Objectives\n",
    "- Explore relevance of their Personal Objectives with their Field of Study\n",
    "- Define clear, achievable set of goals for the student’s academic journey, \n",
    "aligned with their Personal Objectives.\n",
    "\n",
    "4- Assessment and Adjustment: \n",
    "- Develop a method for tracking the student’s progress based on their Weekly Study Schedule\n",
    "- Ensure ongoing effectiveness and alignment with the student’s evolving needs and goals.\n",
    "\n",
    "Ensure that the study plan is realistic, sustainable, and conducive to the student’s overall well-being and academic growth.\n",
    "\n",
    "\"\"\""
   ]
  },
  {
   "cell_type": "code",
   "execution_count": 25,
   "metadata": {},
   "outputs": [
    {
     "name": "stdout",
     "output_type": "stream",
     "text": [
      "\"\n",
      "Given the following information about a student, create a detailed and personalized study plan that addresses their academic and personal needs:\n",
      "\n",
      "1. Student Profile:\n",
      "   - Name: Michael Johnson\n",
      "   - Grade Level: Commerce\n",
      "   - Field of Study: 12\n",
      "   - Academic Subjects: Accounting;Business Studies;Economics\n",
      "  \n",
      "\n",
      "2. Preferred Learning Styles:\n",
      "   Logical;Social;Kinesthetic\n",
      "\n",
      "3. Extracurricular Activities:\n",
      "   Achieve financial literacy;Gain business acumen\n",
      "\n",
      "4. Personal Objectives:\n",
      "   Managing finances;Understanding market trends\n",
      "\n",
      "5. Challenges\n",
      "   Entrepreneurship Club;Financial Literacy Workshop\n",
      "```\n",
      "\n",
      "Based on the above information, generate a comprehensive by adhering to these instructions:\n",
      "\n",
      "1- Weekly Study Schedule: \n",
      "- Analyze student's Academic Subjects, and Field of Study.\n",
      "- Develop a timetable that balances study time across subjects with the student’s \n",
      "extracurricular activities\n",
      "- Ensure adequate time is allocated to each subject, especially those needing improvement.\n",
      "\n",
      "2- Learning Strategies:\n",
      "- Examine student's Preferred Learning Styles and Challenges.\n",
      "- Explore and Recommend a specific study method for the student and resources tailored to the \n",
      "student’s learning styles and subjects. \n",
      "- Within the recommended study method, include suggestions for overcoming their specified Challenges.\n",
      "\n",
      "3- Short-term and Long-term Goals: \n",
      "- Identify Student's Personal Objectives\n",
      "- Explore relevance of their Personal Objectives with their Field of Study\n",
      "- Define clear, achievable set of goals for the student’s academic journey, \n",
      "aligned with their Personal Objectives.\n",
      "\n",
      "4- Assessment and Adjustment: \n",
      "- Develop a method for tracking the student’s progress based on their Weekly Study Schedule\n",
      "- Ensure ongoing effectiveness and alignment with the student’s evolving needs and goals.\n",
      "\n",
      "Ensure that the study plan is realistic, sustainable, and conducive to the student’s overall well-being and academic growth.\n",
      "\n",
      "\n"
     ]
    }
   ],
   "source": [
    "print(prompt) #Experimentation of prompt itself of Deep learning AI"
   ]
  },
  {
   "cell_type": "markdown",
   "metadata": {},
   "source": [
    "# Prompt Creation"
   ]
  },
  {
   "cell_type": "code",
   "execution_count": 26,
   "metadata": {},
   "outputs": [],
   "source": [
    "class StudyPlanGenPrompt(PromptTemplate):\n",
    "    @staticmethod\n",
    "    def get_template(Name=None, Grade=None, Field=None, Subjects=None, Learning_Styles=None, Extracurricular=None, Objectives=None, Challenges=None):\n",
    "        '''Returns prompt for generating detailed study plan'''\n",
    "        task_template =  PromptTemplate.from_file('student/student.jinja', input_variables=['Name', 'Grade','Field', 'Subjects', 'Learning_Styles', 'Extracurricular', 'Objectives', 'Challenges'], template_format=\"jinja2\")\n",
    "        return task_template.format(Name=Name, Grade=Grade, Field=Field, Subjects=Subjects, Learning_Styles=Learning_Styles, Extracurricular=Extracurricular, Objectives=Objectives, Challenges=Challenges)"
   ]
  },
  {
   "cell_type": "code",
   "execution_count": 28,
   "metadata": {},
   "outputs": [],
   "source": [
    "from openai import OpenAI\n",
    "import os\n",
    "\n",
    "OPENAI_API_KEY = os.environ.get(\"OPENAI_API_KEY\") or None\n",
    "class ChatThreadTitle():\n",
    "    @staticmethod\n",
    "    def generate_thread_title(Name, Grade, Field, Subjects, Learning_Styles, Extracurricular, Objectives, Challenges, deployment):\n",
    "        chatgpt_deployment = deployment #! getModelDeployment in views.py\n",
    "        #query = \"Generate Title\"\n",
    "        prompt = StudyPlanGenPrompt.get_template(Name=Name, Grade=Grade, Field=Field, Subjects=Subjects, Learning_Styles=Learning_Styles, Extracurricular=Extracurricular, Objectives=Objectives, Challenges=Challenges) \n",
    "        try:\n",
    "            client = OpenAI(\n",
    "                api_key = OPENAI_API_KEY\n",
    "            )\n",
    "            completion = client.chat.completions.create(\n",
    "                model = chatgpt_deployment,\n",
    "                messages=[{\"role\":\"system\",\"content\":prompt},{\"role\": \"user\", \"content\": \"Develop a detailed and personalized study\"}],\n",
    "                temperature=0.7\n",
    "            )\n",
    "            \n",
    "            return completion.choices[0].message.content\n",
    "        except Exception as e:\n",
    "            return \"New Thread\"\n"
   ]
  },
  {
   "cell_type": "code",
   "execution_count": 29,
   "metadata": {},
   "outputs": [],
   "source": [
    "i = 2\n",
    "\n",
    "Name  = data[i][0]\n",
    "Grade = data[i][1]\n",
    "Field =data[i][2]\n",
    "Subjects=data[i][3]\n",
    "Learning_Styles=data[i][4]\n",
    "Extracurricular=data[i][5]\n",
    "Objectives=data[i][6]\n",
    "Challenges=data[i][7]"
   ]
  },
  {
   "cell_type": "code",
   "execution_count": 30,
   "metadata": {},
   "outputs": [],
   "source": [
    "study_plan = ChatThreadTitle.generate_thread_title(Name, Grade, Field, Subjects, Learning_Styles, Extracurricular, Objectives, Challenges, \"gpt-3.5-turbo-1106\")"
   ]
  },
  {
   "cell_type": "code",
   "execution_count": 32,
   "metadata": {},
   "outputs": [
    {
     "name": "stdout",
     "output_type": "stream",
     "text": [
      "**1- Weekly Study Schedule:**\n",
      "\n",
      "Monday:\n",
      "- 4:00 pm - 5:30 pm: Accounting\n",
      "- 6:00 pm - 7:30 pm: Business Studies\n",
      "\n",
      "Tuesday:\n",
      "- 4:00 pm - 5:30 pm: Economics\n",
      "- 6:00 pm - 7:30 pm: Entrepreneurship Club (Extracurricular Activity)\n",
      "\n",
      "Wednesday:\n",
      "- 4:00 pm - 5:30 pm: Accounting\n",
      "- 6:00 pm - 7:30 pm: Achieve Financial Literacy (Extracurricular Activity)\n",
      "\n",
      "Thursday:\n",
      "- 4:00 pm - 5:30 pm: Business Studies\n",
      "- 6:00 pm - 7:30 pm: Economics\n",
      "\n",
      "Friday:\n",
      "- 4:00 pm - 5:30 pm: Review and catch up on any subjects\n",
      "- 6:00 pm - 7:30 pm: Free time for relaxation and social activities\n",
      "\n",
      "**2- Learning Strategies:**\n",
      "\n",
      "Considering Michael's preferred learning styles of Logical, Social, and Kinesthetic, a blended learning approach would be beneficial. This could involve:\n",
      "- Logical: Utilize textbooks, online resources, and practice problems for in-depth understanding of concepts.\n",
      "- Social: Join study groups or discussion forums to engage in peer learning and exchange ideas.\n",
      "- Kinesthetic: Use real-life examples and case studies to apply theoretical knowledge, and incorporate hands-on activities where possible, especially in Accounting and Business Studies.\n",
      "\n",
      "To address the challenges faced in the Entrepreneurship Club and Financial Literacy Workshop, Michael can utilize time management and prioritization skills, and seek support and guidance from mentors or teachers.\n",
      "\n",
      "**3- Short-term and Long-term Goals:**\n",
      "\n",
      "Short-term Goals:\n",
      "- Improve understanding of Accounting principles and application by the end of the semester.\n",
      "- Participate actively in the Entrepreneurship Club and gain practical knowledge about business operations and management.\n",
      "\n",
      "Long-term Goals:\n",
      "- Develop a strong foundation in Economics to understand market trends and their impact on business decisions.\n",
      "- Apply financial literacy skills to manage personal finances effectively and make informed investment decisions.\n",
      "\n",
      "**4- Assessment and Adjustment:**\n",
      "\n",
      "To track progress, Michael can maintain a study journal to record daily learnings, difficulties faced, and achievements. Regular self-assessment quizzes and mock tests can be used to evaluate understanding and identify areas for improvement. Adjust the study plan as needed based on the results of these assessments and any changing personal objectives.\n",
      "\n",
      "This study plan is designed to be realistic, sustainable, and supportive of Michael's overall well-being and academic growth. Regular breaks and relaxation time have been incorporated to avoid burnout.\n"
     ]
    }
   ],
   "source": [
    "# from pprint import pprint \n",
    "print(study_plan)"
   ]
  }
 ],
 "metadata": {
  "kernelspec": {
   "display_name": "Python 3",
   "language": "python",
   "name": "python3"
  },
  "language_info": {
   "codemirror_mode": {
    "name": "ipython",
    "version": 3
   },
   "file_extension": ".py",
   "mimetype": "text/x-python",
   "name": "python",
   "nbconvert_exporter": "python",
   "pygments_lexer": "ipython3",
   "version": "3.11.1"
  }
 },
 "nbformat": 4,
 "nbformat_minor": 2
}
