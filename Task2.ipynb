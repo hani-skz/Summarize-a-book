{
 "cells": [
  {
   "cell_type": "code",
   "execution_count": 4,
   "metadata": {},
   "outputs": [],
   "source": [
    "from langchain.prompts import PromptTemplate# type: ignore"
   ]
  },
  {
   "cell_type": "markdown",
   "metadata": {},
   "source": [
    "# Experiment with prompt structure"
   ]
  },
  {
   "cell_type": "code",
   "execution_count": 5,
   "metadata": {},
   "outputs": [
    {
     "name": "stdout",
     "output_type": "stream",
     "text": [
      "[['John Doe', 'Science', '10', 'Mathematics;Physics;Chemistry', 'Visual;Auditory;Kinesthetic', 'Score high in exams;Understand concepts deeply', 'Time management;Complexity of subjects', 'Chess Club;Debate Team'], ['Jane Smith', 'Arts', '11', 'English Literature;History;Art and Design', 'Visual;Verbal;Interpersonal', 'Improve writing skills;Learn about historical events', 'Public speaking;Meeting deadlines', 'Basketball Team;Drama Club'], ['Michael Johnson', 'Commerce', '12', 'Accounting;Business Studies;Economics', 'Logical;Social;Kinesthetic', 'Achieve financial literacy;Gain business acumen', 'Managing finances;Understanding market trends', 'Entrepreneurship Club;Financial Literacy Workshop'], ['Maria Garcia', 'STEM', '9', 'Biology;Computer Science;Robotics', 'Logical;Visual;Hands-on', 'Explore STEM careers;Build technical skills', 'Time management;Complexity of coding tasks', 'Science Club;Robotics Competition'], ['Ahmed Khan', 'Humanities', '10', 'Sociology;Psychology;Political Science', 'Verbal;Interpersonal;Logical', 'Understand human behavior;Analyze societal issues', 'Research skills;Critical thinking', 'Debate Team;Social Activism Club']]\n"
     ]
    }
   ],
   "source": [
    "import csv\n",
    "\n",
    "# Specify the path to your CSV file\n",
    "csv_file_path = \"student/Student Data Rows - Sheet1.csv\"\n",
    "\n",
    "# Initialize an empty list to store the data\n",
    "data = []\n",
    "\n",
    "# Open the CSV file and read its contents\n",
    "with open(csv_file_path, \"r\") as file:\n",
    "    reader = csv.reader(file)\n",
    "    # Skip the header row if it exists\n",
    "    next(reader, None)\n",
    "    # Iterate over each row in the CSV file\n",
    "    for row in reader:\n",
    "        data.append(row)\n",
    "\n",
    "# Print the loaded data (optional)\n",
    "print(data)\n"
   ]
  },
  {
   "cell_type": "code",
   "execution_count": 8,
   "metadata": {},
   "outputs": [
    {
     "data": {
      "text/plain": [
       "['John Doe',\n",
       " 'Science',\n",
       " '10',\n",
       " 'Mathematics;Physics;Chemistry',\n",
       " 'Visual;Auditory;Kinesthetic',\n",
       " 'Score high in exams;Understand concepts deeply',\n",
       " 'Time management;Complexity of subjects',\n",
       " 'Chess Club;Debate Team']"
      ]
     },
     "execution_count": 8,
     "metadata": {},
     "output_type": "execute_result"
    }
   ],
   "source": [
    "data[0]"
   ]
  },
  {
   "cell_type": "code",
   "execution_count": 14,
   "metadata": {},
   "outputs": [],
   "source": [
    "i = 2\n",
    "\n",
    "Name  = data[i][0]\n",
    "Grade = data[i][1]\n",
    "Field =data[i][2]\n",
    "Subjects=data[i][3]\n",
    "Learning_Styles=data[i][4]\n",
    "Extracurricular=data[i][5]\n",
    "Objectives=data[i][6]\n",
    "Challenges=data[i][7]"
   ]
  },
  {
   "cell_type": "code",
   "execution_count": 21,
   "metadata": {},
   "outputs": [],
   "source": [
    "prompt = f\"\"\"\"\n",
    "Given the following information about a student, create a detailed and personalized study plan that addresses their academic and personal needs:\n",
    "\n",
    "1. Student Profile:\n",
    "   - Name: {Name}\n",
    "   - Grade Level: {Grade}\n",
    "   - Field of Study: {Field}\n",
    "   - Academic Subjects: {Subjects}\n",
    "  \n",
    "\n",
    "2. Preferred Learning Styles:\n",
    "   {Learning_Styles}\n",
    "\n",
    "3. Extracurricular Activities:\n",
    "   {Extracurricular}\n",
    "\n",
    "4. Personal Objectives:\n",
    "   {Objectives}\n",
    "\n",
    "5. Challenges\n",
    "   {Challenges}\n",
    "```\n",
    "\n",
    "Based on the above information, generate a comprehensive study plan by adhering to these instructions:\n",
    "\n",
    "1- Weekly Study Schedule: \n",
    "- Analyze student's Academic Subjects, and Field of Study.\n",
    "- Develop a timetable that balances study time across subjects with the student’s \n",
    "extracurricular activities\n",
    "- Ensure adequate time is allocated to each subject, especially those needing improvement.\n",
    "\n",
    "2- Learning Strategies:\n",
    "- Examine student's Preferred Learning Styles and Challenges.\n",
    "- Explore and Recommend a specific study method for the student and resources tailored to the \n",
    "student’s learning styles and subjects. \n",
    "- Within the recommended study method, include suggestions for overcoming their specified Challenges.\n",
    "\n",
    "3- Short-term and Long-term Goals: \n",
    "- Identify Student's Personal Objectives\n",
    "- Explore relevance of their Personal Objectives with their Field of Study\n",
    "- Define clear, achievable set of goals for the student’s academic journey, \n",
    "aligned with their Personal Objectives.\n",
    "\n",
    "4- Assessment and Adjustment: \n",
    "- Develop a method for tracking the student’s progress based on their Weekly Study Schedule\n",
    "- Ensure ongoing effectiveness and alignment with the student’s evolving needs and goals.\n",
    "\n",
    "Ensure that the study plan is realistic, sustainable, and conducive to the student’s overall well-being and academic growth.\n",
    "\n",
    "\"\"\""
   ]
  },
  {
   "cell_type": "code",
   "execution_count": 25,
   "metadata": {},
   "outputs": [
    {
     "name": "stdout",
     "output_type": "stream",
     "text": [
      "\"\n",
      "Given the following information about a student, create a detailed and personalized study plan that addresses their academic and personal needs:\n",
      "\n",
      "1. Student Profile:\n",
      "   - Name: Michael Johnson\n",
      "   - Grade Level: Commerce\n",
      "   - Field of Study: 12\n",
      "   - Academic Subjects: Accounting;Business Studies;Economics\n",
      "  \n",
      "\n",
      "2. Preferred Learning Styles:\n",
      "   Logical;Social;Kinesthetic\n",
      "\n",
      "3. Extracurricular Activities:\n",
      "   Achieve financial literacy;Gain business acumen\n",
      "\n",
      "4. Personal Objectives:\n",
      "   Managing finances;Understanding market trends\n",
      "\n",
      "5. Challenges\n",
      "   Entrepreneurship Club;Financial Literacy Workshop\n",
      "```\n",
      "\n",
      "Based on the above information, generate a comprehensive by adhering to these instructions:\n",
      "\n",
      "1- Weekly Study Schedule: \n",
      "- Analyze student's Academic Subjects, and Field of Study.\n",
      "- Develop a timetable that balances study time across subjects with the student’s \n",
      "extracurricular activities\n",
      "- Ensure adequate time is allocated to each subject, especially those needing improvement.\n",
      "\n",
      "2- Learning Strategies:\n",
      "- Examine student's Preferred Learning Styles and Challenges.\n",
      "- Explore and Recommend a specific study method for the student and resources tailored to the \n",
      "student’s learning styles and subjects. \n",
      "- Within the recommended study method, include suggestions for overcoming their specified Challenges.\n",
      "\n",
      "3- Short-term and Long-term Goals: \n",
      "- Identify Student's Personal Objectives\n",
      "- Explore relevance of their Personal Objectives with their Field of Study\n",
      "- Define clear, achievable set of goals for the student’s academic journey, \n",
      "aligned with their Personal Objectives.\n",
      "\n",
      "4- Assessment and Adjustment: \n",
      "- Develop a method for tracking the student’s progress based on their Weekly Study Schedule\n",
      "- Ensure ongoing effectiveness and alignment with the student’s evolving needs and goals.\n",
      "\n",
      "Ensure that the study plan is realistic, sustainable, and conducive to the student’s overall well-being and academic growth.\n",
      "\n",
      "\n"
     ]
    }
   ],
   "source": [
    "print(prompt) #Experimentation of prompt itself of Deep learning AI"
   ]
  },
  {
   "cell_type": "markdown",
   "metadata": {},
   "source": [
    "# Prompt Creation"
   ]
  },
  {
   "cell_type": "code",
   "execution_count": 6,
   "metadata": {},
   "outputs": [],
   "source": [
    "class StudyPlanGenPrompt(PromptTemplate):\n",
    "    @staticmethod\n",
    "    def get_template(Name=None, Grade=None, Field=None, Subjects=None, Learning_Styles=None, Extracurricular=None, Objectives=None, Challenges=None):\n",
    "        '''Returns prompt for generating detailed study plan'''\n",
    "        task_template =  PromptTemplate.from_file('student/student.jinja', input_variables=['Name', 'Grade','Field', 'Subjects', 'Learning_Styles', 'Extracurricular', 'Objectives', 'Challenges'], template_format=\"jinja2\")\n",
    "        return task_template.format(Name=Name, Grade=Grade, Field=Field, Subjects=Subjects, Learning_Styles=Learning_Styles, Extracurricular=Extracurricular, Objectives=Objectives, Challenges=Challenges)"
   ]
  },
  {
   "cell_type": "code",
   "execution_count": 7,
   "metadata": {},
   "outputs": [],
   "source": [
    "from openai import OpenAI\n",
    "import os\n",
    "\n",
    "OPENAI_API_KEY = os.environ.get(\"OPENAI_API_KEY\") or None\n",
    "class StudyPlanGen():\n",
    "    @staticmethod\n",
    "    def generate_thread_title(Name, Grade, Field, Subjects, Learning_Styles, Extracurricular, Objectives, Challenges, deployment):\n",
    "        chatgpt_deployment = deployment #! getModelDeployment in views.py\n",
    "        #query = \"Generate Title\"\n",
    "        prompt = StudyPlanGenPrompt.get_template(Name=Name, Grade=Grade, Field=Field, Subjects=Subjects, Learning_Styles=Learning_Styles, Extracurricular=Extracurricular, Objectives=Objectives, Challenges=Challenges) \n",
    "        try:\n",
    "            client = OpenAI(\n",
    "                api_key = OPENAI_API_KEY\n",
    "            )\n",
    "            completion = client.chat.completions.create(\n",
    "                model = chatgpt_deployment,\n",
    "                messages=[{\"role\":\"system\",\"content\":prompt},{\"role\": \"user\", \"content\": \"Develop a detailed and personalized study plan\"}],\n",
    "                temperature=0.7\n",
    "            )\n",
    "            \n",
    "            return completion.choices[0].message.content\n",
    "        except Exception as e:\n",
    "            return \"New Thread\"\n"
   ]
  },
  {
   "cell_type": "code",
   "execution_count": 8,
   "metadata": {},
   "outputs": [],
   "source": [
    "i = 2 #vary this number between 0 and len -1 of data for different students\n",
    "\n",
    "Name  = data[i][0]\n",
    "Grade = data[i][1]\n",
    "Field =data[i][2]\n",
    "Subjects=data[i][3]\n",
    "Learning_Styles=data[i][4]\n",
    "Extracurricular=data[i][5]\n",
    "Objectives=data[i][6]\n",
    "Challenges=data[i][7]"
   ]
  },
  {
   "cell_type": "code",
   "execution_count": 11,
   "metadata": {},
   "outputs": [],
   "source": [
    "study_plan = StudyPlanGen.generate_thread_title(Name, Grade, Field, Subjects, Learning_Styles, Extracurricular, Objectives, Challenges, \"gpt-3.5-turbo-1106\")"
   ]
  },
  {
   "cell_type": "code",
   "execution_count": 12,
   "metadata": {},
   "outputs": [
    {
     "name": "stdout",
     "output_type": "stream",
     "text": [
      "**1- Weekly Study Schedule:**\n",
      "- Monday: \n",
      "  - 3:00 PM - 5:00 PM: Accounting\n",
      "  - 6:00 PM - 7:30 PM: Business Studies\n",
      "- Tuesday:\n",
      "  - 3:00 PM - 5:00 PM: Economics\n",
      "  - 6:00 PM - 7:30 PM: Achieve financial literacy (Extracurricular activity)\n",
      "- Wednesday:\n",
      "  - 3:00 PM - 5:00 PM: Business Studies\n",
      "  - 6:00 PM - 7:30 PM: Accounting\n",
      "- Thursday:\n",
      "  - 3:00 PM - 5:00 PM: Economics\n",
      "  - 6:00 PM - 7:30 PM: Entrepreneurship Club (Challenges)\n",
      "- Friday:\n",
      "  - 3:00 PM - 5:00 PM: Accounting\n",
      "  - 6:00 PM - 7:30 PM: Financial Literacy Workshop (Challenges)\n",
      "- Saturday:\n",
      "  - 10:00 AM - 12:00 PM: Economics\n",
      "  - 1:00 PM - 3:00 PM: Business Studies\n",
      "- Sunday:\n",
      "  - 10:00 AM - 12:00 PM: Review and catch up on any subjects as needed\n",
      "\n",
      "**2- Learning Strategies:**\n",
      "Michael's preferred learning styles are logical, social, and kinesthetic. To accommodate these styles and address his challenges, a recommended study method for him would be:\n",
      "- Logical: Utilize textbooks, online resources, and practice problems to engage his logical thinking and analytical skills in Accounting, Business Studies, and Economics.\n",
      "- Social: Join study groups or form one with classmates to discuss and debate concepts, as well as participate actively in the Entrepreneurship Club to engage socially.\n",
      "- Kinesthetic: Use hands-on activities and simulations to understand real-world applications of accounting and economic principles, and participate actively in the financial literacy workshop to gain practical skills.\n",
      "\n",
      "**3- Short-term and Long-term Goals:**\n",
      "- Short-term goals: \n",
      "  1. Achieve a minimum A grade in all subjects by the end of the semester.\n",
      "  2. Actively participate in the Entrepreneurship Club and gain valuable insights from the Financial Literacy Workshop.\n",
      "- Long-term goals:\n",
      "  1. Apply the knowledge gained to effectively manage personal finances.\n",
      "  2. Understand market trends and apply this understanding in future business endeavors.\n",
      "\n",
      "**4- Assessment and Adjustment:**\n",
      "- Monthly assessments will be conducted to track Michael's progress in each subject, the level of participation in extracurricular activities, and the achievement of short-term goals. \n",
      "- Regular feedback sessions will be held to understand any challenges or changes in personal objectives, and the study plan will be adjusted accordingly to ensure continued alignment with Michael's evolving needs and goals.\n",
      "\n",
      "This study plan is designed to provide Michael with a balanced approach to his academic and personal growth while ensuring that his preferred learning styles and challenges are addressed effectively.\n"
     ]
    }
   ],
   "source": [
    "# from pprint import pprint \n",
    "print(study_plan)"
   ]
  },
  {
   "cell_type": "code",
   "execution_count": null,
   "metadata": {},
   "outputs": [],
   "source": []
  }
 ],
 "metadata": {
  "kernelspec": {
   "display_name": "Python 3",
   "language": "python",
   "name": "python3"
  },
  "language_info": {
   "codemirror_mode": {
    "name": "ipython",
    "version": 3
   },
   "file_extension": ".py",
   "mimetype": "text/x-python",
   "name": "python",
   "nbconvert_exporter": "python",
   "pygments_lexer": "ipython3",
   "version": "3.11.1"
  }
 },
 "nbformat": 4,
 "nbformat_minor": 2
}
